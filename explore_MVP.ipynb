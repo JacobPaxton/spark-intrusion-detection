{
 "cells": [
  {
   "cell_type": "markdown",
   "id": "65579b50",
   "metadata": {},
   "source": [
    "# Minimum Viable Product (MVP) Exploration\n",
    "- Create initial hypotheses using domain knowledge\n",
    "    * Hypotheses: Attack categories have certain expected appearance in the dataset\n",
    "- Conduct statistical testing to answer them\n",
    "    * Categorical target: Use Chi Square tests and Comparison of Means tests\n",
    "- Export results to Pandas for quick visualization in Seaborn\n",
    "\n",
    "# Preparation"
   ]
  },
  {
   "cell_type": "code",
   "execution_count": 1,
   "id": "61bd6f5e",
   "metadata": {},
   "outputs": [
    {
     "name": "stderr",
     "output_type": "stream",
     "text": [
      "WARNING: An illegal reflective access operation has occurred\n",
      "WARNING: Illegal reflective access by org.apache.spark.unsafe.Platform (file:/opt/homebrew/anaconda3/lib/python3.8/site-packages/pyspark/jars/spark-unsafe_2.12-3.2.0.jar) to constructor java.nio.DirectByteBuffer(long,int)\n",
      "WARNING: Please consider reporting this to the maintainers of org.apache.spark.unsafe.Platform\n",
      "WARNING: Use --illegal-access=warn to enable warnings of further illegal reflective access operations\n",
      "WARNING: All illegal access operations will be denied in a future release\n",
      "Using Spark's default log4j profile: org/apache/spark/log4j-defaults.properties\n",
      "Setting default log level to \"WARN\".\n",
      "To adjust logging level use sc.setLogLevel(newLevel). For SparkR, use setLogLevel(newLevel).\n",
      "22/01/24 12:17:02 WARN NativeCodeLoader: Unable to load native-hadoop library for your platform... using builtin-java classes where applicable\n"
     ]
    }
   ],
   "source": [
    "# imports\n",
    "import pyspark\n",
    "from pyspark.sql.functions import *\n",
    "spark = pyspark.sql.SparkSession.builder.getOrCreate()\n",
    "\n",
    "import pandas as pd\n",
    "import matplotlib.pyplot as plt\n",
    "import seaborn as sns\n",
    "from scipy import stats\n",
    "\n",
    "import wrangle"
   ]
  },
  {
   "cell_type": "code",
   "execution_count": 2,
   "id": "bca105f7",
   "metadata": {
    "scrolled": true
   },
   "outputs": [
    {
     "name": "stderr",
     "output_type": "stream",
     "text": [
      "                                                                                \r"
     ]
    }
   ],
   "source": [
    "# ingest, preparation, and split\n",
    "df, train, _, _ = wrangle.prep_explore()"
   ]
  },
  {
   "cell_type": "code",
   "execution_count": 3,
   "id": "f7b78209",
   "metadata": {},
   "outputs": [
    {
     "name": "stdout",
     "output_type": "stream",
     "text": [
      "root\n",
      " |-- duration: integer (nullable = true)\n",
      " |-- protocol_type: string (nullable = true)\n",
      " |-- service: string (nullable = true)\n",
      " |-- flag: string (nullable = true)\n",
      " |-- src_bytes: integer (nullable = true)\n",
      " |-- dst_bytes: integer (nullable = true)\n",
      " |-- land: string (nullable = true)\n",
      " |-- wrong_fragment: integer (nullable = true)\n",
      " |-- urgent: integer (nullable = true)\n",
      " |-- hot: integer (nullable = true)\n",
      " |-- num_failed_logins: integer (nullable = true)\n",
      " |-- logged_in: string (nullable = true)\n",
      " |-- num_compromised: integer (nullable = true)\n",
      " |-- root_shell: integer (nullable = true)\n",
      " |-- su_attempted: integer (nullable = true)\n",
      " |-- num_root: integer (nullable = true)\n",
      " |-- num_file_creations: integer (nullable = true)\n",
      " |-- num_shells: integer (nullable = true)\n",
      " |-- num_access_files: integer (nullable = true)\n",
      " |-- num_outbound_cmds: integer (nullable = true)\n",
      " |-- is_host_login: string (nullable = true)\n",
      " |-- is_guest_login: string (nullable = true)\n",
      " |-- count: string (nullable = true)\n",
      " |-- srv_count: integer (nullable = true)\n",
      " |-- serror_rate: double (nullable = true)\n",
      " |-- srv_serror_rate: double (nullable = true)\n",
      " |-- rerror_rate: double (nullable = true)\n",
      " |-- srv_rerror_rate: double (nullable = true)\n",
      " |-- same_srv_rate: double (nullable = true)\n",
      " |-- diff_srv_rate: double (nullable = true)\n",
      " |-- srv_diff_host_rate: double (nullable = true)\n",
      " |-- dst_host_count: integer (nullable = true)\n",
      " |-- dst_host_srv_count: integer (nullable = true)\n",
      " |-- dst_host_same_srv_rate: double (nullable = true)\n",
      " |-- dst_host_diff_srv_rate: double (nullable = true)\n",
      " |-- dst_host_same_src_port_rate: double (nullable = true)\n",
      " |-- dst_host_srv_diff_host_rate: double (nullable = true)\n",
      " |-- dst_host_serror_rate: double (nullable = true)\n",
      " |-- dst_host_srv_serror_rate: double (nullable = true)\n",
      " |-- dst_host_rerror_rate: double (nullable = true)\n",
      " |-- dst_host_srv_rerror_rate: double (nullable = true)\n",
      " |-- target: string (nullable = false)\n",
      "\n"
     ]
    }
   ],
   "source": [
    "df.printSchema()"
   ]
  },
  {
   "cell_type": "markdown",
   "id": "948df62b",
   "metadata": {},
   "source": [
    "# Initial Hypotheses\n",
    "- DOS: denial-of-service, e.g. syn flood\n",
    "    * Hypothesis: Anomalies have higher srv_count than normal traffic\n",
    "- R2L: unauthorized access from a remote machine, e.g. guessing password\n",
    "    * Hypothesis: Anomalies have higher num_failed_logins than normal traffic\n",
    "- U2R:  unauthorized access to local superuser (root) privileges, e.g., various 'buffer overflow' attacks\n",
    "    * Hypothesis: Anomalies have higher su_attempted than normal traffic\n",
    "- probing: surveillance and other probing, e.g., port scanning\n",
    "    * Hypothesis: Anomalies have higher srv_diff_host_rate than normal traffic\n",
    "\n",
    "## Hypothesis 1: Anomalies have higher same-server request counts than normal traffic\n",
    "- $H_0$: Anomalies do not have higher average same-server request count than normal traffic.\n",
    "- $H_a$: Anomalies have higher average same-server request count than normal traffic.\n",
    "- Confidence Interval: 95%"
   ]
  },
  {
   "cell_type": "code",
   "execution_count": 4,
   "id": "69df6da0",
   "metadata": {},
   "outputs": [
    {
     "name": "stderr",
     "output_type": "stream",
     "text": [
      "                                                                                \r"
     ]
    }
   ],
   "source": [
    "# export required columns to pandas\n",
    "srv_count_target = train.select('srv_count', 'target').toPandas()"
   ]
  },
  {
   "cell_type": "code",
   "execution_count": 5,
   "id": "9951b141",
   "metadata": {},
   "outputs": [
    {
     "data": {
      "image/png": "[encoded data removed]",
      "text/plain": [
       "<Figure size 360x360 with 1 Axes>"
      ]
     },
     "metadata": {
      "needs_background": "light"
     },
     "output_type": "display_data"
    }
   ],
   "source": [
    "# visualize means\n",
    "sns.catplot(data=srv_count_target, x='target', y='srv_count', kind='strip')\n",
    "plt.title('Anomalies Have High-Range Density Compared to Normal')\n",
    "plt.ylabel('Count of Same-Server Connections in Session')\n",
    "plt.xlabel('')\n",
    "plt.show()"
   ]
  },
  {
   "cell_type": "code",
   "execution_count": 6,
   "id": "addb28f2",
   "metadata": {},
   "outputs": [],
   "source": [
    "# set alpha\n",
    "alpha = .05\n",
    "\n",
    "# perform statistical test\n",
    "t, p = stats.mannwhitneyu(\n",
    "    srv_count_target[srv_count_target.target != 'normal'].srv_count,\n",
    "    srv_count_target[srv_count_target.target == 'normal'].srv_count,\n",
    "    alternative='greater'\n",
    ")"
   ]
  },
  {
   "cell_type": "code",
   "execution_count": 7,
   "id": "bdd9f7a2",
   "metadata": {},
   "outputs": [
    {
     "name": "stdout",
     "output_type": "stream",
     "text": [
      "We reject the null hypothesis. We are 95% confident that anomalies have higher srv_count than normal traffic.\n"
     ]
    }
   ],
   "source": [
    "# print results\n",
    "if t > 0 and p < alpha:\n",
    "    print('We reject the null hypothesis. We are 95% confident that anomalies have higher srv_count than normal traffic.')\n",
    "else:\n",
    "    print('We accept the null hypothesis. Results do not breach the 95% confidence interval.')"
   ]
  },
  {
   "cell_type": "markdown",
   "id": "f23d95f6",
   "metadata": {},
   "source": [
    "## Hypothesis 2: Anomalies have higher failed login counts than normal traffic\n",
    "- $H_0$: Anomalies do not have higher average failed login count than normal traffic.\n",
    "- $H_a$: Anomalies have higher average failed login count than normal traffic.\n",
    "- Confidence Interval: 95%"
   ]
  },
  {
   "cell_type": "code",
   "execution_count": 8,
   "id": "bfe979bf",
   "metadata": {},
   "outputs": [
    {
     "name": "stderr",
     "output_type": "stream",
     "text": [
      "                                                                                \r"
     ]
    }
   ],
   "source": [
    "# export required columns to pandas\n",
    "failed_logins_target = train.select('num_failed_logins', 'target').toPandas()"
   ]
  },
  {
   "cell_type": "code",
   "execution_count": 9,
   "id": "38fece10",
   "metadata": {},
   "outputs": [
    {
     "data": {
      "image/png": "[encoded data removed]",
      "text/plain": [
       "<Figure size 360x360 with 1 Axes>"
      ]
     },
     "metadata": {
      "needs_background": "light"
     },
     "output_type": "display_data"
    }
   ],
   "source": [
    "# visualize means\n",
    "sns.catplot(data=failed_logins_target, x='target', y='num_failed_logins', kind='bar')\n",
    "plt.title('Both Classes Have Near-Zero Average Failed Logins, But Anomalies Still Higher')\n",
    "plt.ylabel('Average Count of Failed Logins')\n",
    "plt.xlabel('')\n",
    "plt.show()"
   ]
  },
  {
   "cell_type": "code",
   "execution_count": 10,
   "id": "c123298a",
   "metadata": {},
   "outputs": [],
   "source": [
    "# set alpha\n",
    "alpha = .05\n",
    "\n",
    "# perform statistical test\n",
    "t, p = stats.mannwhitneyu(\n",
    "    failed_logins_target[failed_logins_target.target != 'normal'].num_failed_logins,\n",
    "    failed_logins_target[failed_logins_target.target == 'normal'].num_failed_logins,\n",
    "    alternative='greater'\n",
    ")"
   ]
  },
  {
   "cell_type": "code",
   "execution_count": 11,
   "id": "47421cdd",
   "metadata": {},
   "outputs": [
    {
     "name": "stdout",
     "output_type": "stream",
     "text": [
      "We reject the null hypothesis. We are 95% confident that anomalies have higher count of failed logins than normal traffic.\n"
     ]
    }
   ],
   "source": [
    "# print results\n",
    "if t > 0 and p < alpha:\n",
    "    print('We reject the null hypothesis. We are 95% confident that anomalies have higher count of failed logins than normal traffic.')\n",
    "else:\n",
    "    print('We accept the null hypothesis. Results do not breach the 95% confidence interval.')"
   ]
  },
  {
   "cell_type": "markdown",
   "id": "c6c26c69",
   "metadata": {},
   "source": [
    "## Hypothesis 3: Anomalies have higher superuser attempts than normal traffic\n",
    "- $H_0$: Anomalies do not have higher average superuser attempts than normal traffic.\n",
    "- $H_a$: Anomalies have higher average superuser attempts than normal traffic.\n",
    "- Confidence Interval: 95%"
   ]
  },
  {
   "cell_type": "code",
   "execution_count": 12,
   "id": "f05392fd",
   "metadata": {},
   "outputs": [
    {
     "name": "stderr",
     "output_type": "stream",
     "text": [
      "                                                                                \r"
     ]
    }
   ],
   "source": [
    "# export required columns to pandas\n",
    "su_attempts_target = train.select('su_attempted', 'target').toPandas()"
   ]
  },
  {
   "cell_type": "code",
   "execution_count": 13,
   "id": "b63a1442",
   "metadata": {},
   "outputs": [
    {
     "data": {
      "image/png": "[encoded data removed]",
      "text/plain": [
       "<Figure size 360x360 with 1 Axes>"
      ]
     },
     "metadata": {
      "needs_background": "light"
     },
     "output_type": "display_data"
    }
   ],
   "source": [
    "# visualize means\n",
    "sns.catplot(data=su_attempts_target, x='target', y='su_attempted', kind='bar')\n",
    "plt.title('Anomalies Have Lower Superuser Attempts on Average')\n",
    "plt.ylabel('Average Count of Superuser Attempts')\n",
    "plt.xlabel('')\n",
    "plt.show()"
   ]
  },
  {
   "cell_type": "code",
   "execution_count": 14,
   "id": "298ced5e",
   "metadata": {},
   "outputs": [],
   "source": [
    "# set alpha\n",
    "alpha = .05\n",
    "\n",
    "# perform statistical test\n",
    "t, p = stats.mannwhitneyu(\n",
    "    su_attempts_target[su_attempts_target.target != 'normal'].su_attempted,\n",
    "    su_attempts_target[su_attempts_target.target == 'normal'].su_attempted,\n",
    "    alternative='greater'\n",
    ")"
   ]
  },
  {
   "cell_type": "code",
   "execution_count": 15,
   "id": "e049b0ad",
   "metadata": {},
   "outputs": [
    {
     "name": "stdout",
     "output_type": "stream",
     "text": [
      "We accept the null hypothesis. Results do not breach the 95% confidence interval.\n"
     ]
    }
   ],
   "source": [
    "# print results\n",
    "if t > 0 and p < alpha:\n",
    "    print('We reject the null hypothesis. We are 95% confident that anomalies have higher superuser attempts than normal traffic.')\n",
    "else:\n",
    "    print('We accept the null hypothesis. Results do not breach the 95% confidence interval.')"
   ]
  },
  {
   "cell_type": "markdown",
   "id": "d3ae2241",
   "metadata": {},
   "source": [
    "## Hypothesis 4: Anomalies have higher different-host connection rate than normal traffic\n",
    "- $H_0$: Anomalies do not have higher average different-host connection rate than normal traffic.\n",
    "- $H_a$: Anomalies have higher average different-host connection rate than normal traffic.\n",
    "- Confidence Interval: 95%"
   ]
  },
  {
   "cell_type": "code",
   "execution_count": 16,
   "id": "0be6f8ab",
   "metadata": {},
   "outputs": [
    {
     "name": "stderr",
     "output_type": "stream",
     "text": [
      "                                                                                \r"
     ]
    }
   ],
   "source": [
    "# export required columns to pandas\n",
    "diff_hosts_target = train.select('srv_diff_host_rate', 'target').toPandas()"
   ]
  },
  {
   "cell_type": "code",
   "execution_count": 17,
   "id": "4dbcddfa",
   "metadata": {},
   "outputs": [
    {
     "data": {
      "image/png": "[encoded data removed]",
      "text/plain": [
       "<Figure size 360x360 with 1 Axes>"
      ]
     },
     "metadata": {
      "needs_background": "light"
     },
     "output_type": "display_data"
    }
   ],
   "source": [
    "# visualize means\n",
    "sns.catplot(data=diff_hosts_target, x='target', y='srv_diff_host_rate', kind='strip')\n",
    "plt.title('')\n",
    "plt.ylabel('Rate of Different-Host Connections')\n",
    "plt.xlabel('')\n",
    "plt.show()"
   ]
  },
  {
   "cell_type": "markdown",
   "id": "f6039274",
   "metadata": {},
   "source": [
    "### Visual Results for Different Host Rate Hypothesis\n",
    "1. Due to the existence of 100%-different, it's clear that this is *not* majority_host_count / total_connection_count\n",
    "2. **Because of this, we can't do a statistical test to answer our hypothesis.**"
   ]
  },
  {
   "cell_type": "code",
   "execution_count": null,
   "id": "2c1cba07",
   "metadata": {},
   "outputs": [],
   "source": []
  }
 ],
 "metadata": {
  "kernelspec": {
   "display_name": "Python 3 (ipykernel)",
   "language": "python",
   "name": "python3"
  },
  "language_info": {
   "codemirror_mode": {
    "name": "ipython",
    "version": 3
   },
   "file_extension": ".py",
   "mimetype": "text/x-python",
   "name": "python",
   "nbconvert_exporter": "python",
   "pygments_lexer": "ipython3",
   "version": "3.8.8"
  }
 },
 "nbformat": 4,
 "nbformat_minor": 5
}
