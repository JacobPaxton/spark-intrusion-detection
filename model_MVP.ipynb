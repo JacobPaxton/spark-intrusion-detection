{
 "cells": [
  {
   "cell_type": "markdown",
   "id": "545236c2",
   "metadata": {},
   "source": [
    "# Minimum-Viable Product (MVP) Modeling\n",
    "- Use the significant features from MVP exploration\n",
    "    1. srv_count\n",
    "    2. num_failed_logins\n",
    "- Resample classes if necessary using SMOTE+Tomek\n",
    "- Scale features\n",
    "- Calculate baseline (guessing anomaly)\n",
    "- Build a classification model and fit on train's two features and target\n",
    "- Evaluate model on train and validate\n",
    "    * Main metric: F1 Score\n",
    "- Report findings of MVP model\n",
    "\n",
    "# Setup"
   ]
  },
  {
   "cell_type": "code",
   "execution_count": 1,
   "id": "29c73fcf",
   "metadata": {},
   "outputs": [
    {
     "name": "stderr",
     "output_type": "stream",
     "text": [
      "WARNING: An illegal reflective access operation has occurred\n",
      "WARNING: Illegal reflective access by org.apache.spark.unsafe.Platform (file:/opt/homebrew/anaconda3/lib/python3.8/site-packages/pyspark/jars/spark-unsafe_2.12-3.2.0.jar) to constructor java.nio.DirectByteBuffer(long,int)\n",
      "WARNING: Please consider reporting this to the maintainers of org.apache.spark.unsafe.Platform\n",
      "WARNING: Use --illegal-access=warn to enable warnings of further illegal reflective access operations\n",
      "WARNING: All illegal access operations will be denied in a future release\n",
      "Using Spark's default log4j profile: org/apache/spark/log4j-defaults.properties\n",
      "Setting default log level to \"WARN\".\n",
      "To adjust logging level use sc.setLogLevel(newLevel). For SparkR, use setLogLevel(newLevel).\n",
      "22/01/24 15:23:56 WARN NativeCodeLoader: Unable to load native-hadoop library for your platform... using builtin-java classes where applicable\n",
      "22/01/24 15:23:57 WARN Utils: Service 'SparkUI' could not bind on port 4040. Attempting port 4041.\n"
     ]
    }
   ],
   "source": [
    "# imports\n",
    "import pyspark\n",
    "from pyspark.sql.functions import *\n",
    "spark = pyspark.sql.SparkSession.builder.getOrCreate()\n",
    "\n",
    "import pandas as pd\n",
    "import seaborn as sns\n",
    "import matplotlib.pyplot as plt\n",
    "\n",
    "from sklearn.preprocessing import MinMaxScaler\n",
    "from imblearn.combine import SMOTETomek\n",
    "\n",
    "from sklearn.ensemble import RandomForestClassifier\n",
    "from sklearn.metrics import classification_report\n",
    "\n",
    "import wrangle"
   ]
  },
  {
   "cell_type": "code",
   "execution_count": 2,
   "id": "03af3133",
   "metadata": {},
   "outputs": [
    {
     "name": "stderr",
     "output_type": "stream",
     "text": [
      "                                                                                \r"
     ]
    },
    {
     "name": "stdout",
     "output_type": "stream",
     "text": [
      "Train shape: (606701, 3)\n",
      "Validate shape: (362816, 3)\n",
      "Test shape: (242379, 3)\n"
     ]
    }
   ],
   "source": [
    "# data ingest, prep, and split\n",
    "train, validate, test = wrangle.prep_model_MVP()\n",
    "print('Train shape:', train.shape)\n",
    "print('Validate shape:', validate.shape)\n",
    "print('Test shape:', test.shape)"
   ]
  },
  {
   "cell_type": "code",
   "execution_count": 3,
   "id": "09193e82",
   "metadata": {},
   "outputs": [],
   "source": [
    "# isolate target column in each split\n",
    "X_train, y_train = train.drop(columns='target'), train.target\n",
    "X_validate, y_validate = validate.drop(columns='target'), validate.target\n",
    "X_test, y_test = test.drop(columns='target'), test.target"
   ]
  },
  {
   "cell_type": "markdown",
   "id": "88c34cec",
   "metadata": {},
   "source": [
    "# Check if Need to Resample Train\n",
    "If the distribution is skewed, we will need to resample to bring each class into parity. This will increase our model's performance."
   ]
  },
  {
   "cell_type": "code",
   "execution_count": 4,
   "id": "9767254d",
   "metadata": {},
   "outputs": [
    {
     "data": {
      "image/png": "[encoded data removed]",
      "text/plain": [
       "<Figure size 432x288 with 1 Axes>"
      ]
     },
     "metadata": {
      "needs_background": "light"
     },
     "output_type": "display_data"
    }
   ],
   "source": [
    "# check distribution\n",
    "sns.histplot(y_train)\n",
    "plt.title('Histogram of Normal (0) v Anomalous (1)')\n",
    "plt.show()"
   ]
  },
  {
   "cell_type": "markdown",
   "id": "76fe0637",
   "metadata": {},
   "source": [
    "1. Based on the distribution, we will oversample the Anomalous class and undersample the Normal class using SMOTE+Tomek.\n",
    "2. We will resample after we have scaled our features."
   ]
  },
  {
   "cell_type": "markdown",
   "id": "0fbdaad3",
   "metadata": {},
   "source": [
    "# Scaling"
   ]
  },
  {
   "cell_type": "code",
   "execution_count": 5,
   "id": "4fbf0ae4",
   "metadata": {},
   "outputs": [
    {
     "data": {
      "text/plain": [
       "array([[0.00195695, 0.        ],\n",
       "       [0.00195695, 0.        ],\n",
       "       [0.00195695, 0.        ],\n",
       "       ...,\n",
       "       [1.        , 0.        ],\n",
       "       [1.        , 0.        ],\n",
       "       [1.        , 0.        ]])"
      ]
     },
     "execution_count": 5,
     "metadata": {},
     "output_type": "execute_result"
    }
   ],
   "source": [
    "# build and fit scaler on train, transform all splits\n",
    "scaler = MinMaxScaler()\n",
    "X_train_scaled = scaler.fit_transform(X_train)\n",
    "X_validate_scaled = scaler.transform(X_validate)\n",
    "X_test_scaled = scaler.transform(X_test)\n",
    "\n",
    "# check work\n",
    "X_train_scaled"
   ]
  },
  {
   "cell_type": "markdown",
   "id": "0dce0591",
   "metadata": {},
   "source": [
    "# Resampling Train Split\n",
    "Resampling is needed here, but it will take several minutes to complete on a low-performance laptop. Spark does not have a mechanism for this resampling."
   ]
  },
  {
   "cell_type": "code",
   "execution_count": 6,
   "id": "ee984a30",
   "metadata": {},
   "outputs": [
    {
     "name": "stdout",
     "output_type": "stream",
     "text": [
      "Shape before resampling: (606701, 2)\n",
      "Shape after resampling: (973584, 2)\n"
     ]
    }
   ],
   "source": [
    "# build resampler\n",
    "smtom = SMOTETomek(random_state=42)\n",
    "# resample the training split\n",
    "X_train_smtom, y_train_smtom = smtom.fit_resample(pd.DataFrame(X_train_scaled), y_train)\n",
    "\n",
    "# check work\n",
    "print('Shape before resampling:', X_train_scaled.shape)\n",
    "print('Shape after resampling:', X_train_smtom.shape)"
   ]
  },
  {
   "cell_type": "markdown",
   "id": "8defe457",
   "metadata": {},
   "source": [
    "# Calculate, Evaluate Baseline\n",
    "We will guess 'anomalous' for every observation as a baseline. Because we've resampled the dataset, this baseline will have 50% accuracy on in-sample data but lower accuracy on out-of-sample data."
   ]
  },
  {
   "cell_type": "code",
   "execution_count": 7,
   "id": "93eb0770",
   "metadata": {},
   "outputs": [
    {
     "name": "stderr",
     "output_type": "stream",
     "text": [
      "/opt/homebrew/anaconda3/lib/python3.8/site-packages/sklearn/metrics/_classification.py:1248: UndefinedMetricWarning: Precision and F-score are ill-defined and being set to 0.0 in labels with no predicted samples. Use `zero_division` parameter to control this behavior.\n",
      "  _warn_prf(average, modifier, msg_start, len(result))\n",
      "/opt/homebrew/anaconda3/lib/python3.8/site-packages/sklearn/metrics/_classification.py:1248: UndefinedMetricWarning: Precision and F-score are ill-defined and being set to 0.0 in labels with no predicted samples. Use `zero_division` parameter to control this behavior.\n",
      "  _warn_prf(average, modifier, msg_start, len(result))\n",
      "/opt/homebrew/anaconda3/lib/python3.8/site-packages/sklearn/metrics/_classification.py:1248: UndefinedMetricWarning: Precision and F-score are ill-defined and being set to 0.0 in labels with no predicted samples. Use `zero_division` parameter to control this behavior.\n",
      "  _warn_prf(average, modifier, msg_start, len(result))\n",
      "/opt/homebrew/anaconda3/lib/python3.8/site-packages/sklearn/metrics/_classification.py:1248: UndefinedMetricWarning: Precision and F-score are ill-defined and being set to 0.0 in labels with no predicted samples. Use `zero_division` parameter to control this behavior.\n",
      "  _warn_prf(average, modifier, msg_start, len(result))\n",
      "/opt/homebrew/anaconda3/lib/python3.8/site-packages/sklearn/metrics/_classification.py:1248: UndefinedMetricWarning: Precision and F-score are ill-defined and being set to 0.0 in labels with no predicted samples. Use `zero_division` parameter to control this behavior.\n",
      "  _warn_prf(average, modifier, msg_start, len(result))\n",
      "/opt/homebrew/anaconda3/lib/python3.8/site-packages/sklearn/metrics/_classification.py:1248: UndefinedMetricWarning: Precision and F-score are ill-defined and being set to 0.0 in labels with no predicted samples. Use `zero_division` parameter to control this behavior.\n",
      "  _warn_prf(average, modifier, msg_start, len(result))\n"
     ]
    }
   ],
   "source": [
    "# create, evaluate baseline for in-sample (train)\n",
    "bl_report_train = pd.DataFrame(\n",
    "    classification_report(\n",
    "        y_train_smtom,\n",
    "        pd.Series([1 for _ in y_train_smtom]), \n",
    "        labels=[1, 0], \n",
    "        output_dict=True\n",
    "    )\n",
    ").T\n",
    "\n",
    "# create, evaluate baseline for out-of-sample (validate)\n",
    "bl_report_validate = pd.DataFrame(\n",
    "    classification_report(\n",
    "        y_validate,\n",
    "        pd.Series([1 for _ in y_validate]), \n",
    "        labels=[1, 0], \n",
    "        output_dict=True\n",
    "    )\n",
    ").T"
   ]
  },
  {
   "cell_type": "markdown",
   "id": "3fcfd4fe",
   "metadata": {},
   "source": [
    "# Build Classification Model"
   ]
  },
  {
   "cell_type": "code",
   "execution_count": 8,
   "id": "34690a13",
   "metadata": {},
   "outputs": [
    {
     "data": {
      "text/plain": [
       "RandomForestClassifier(random_state=42)"
      ]
     },
     "execution_count": 8,
     "metadata": {},
     "output_type": "execute_result"
    }
   ],
   "source": [
    "# build random forest classification model\n",
    "rf = RandomForestClassifier(random_state=42)\n",
    "rf.fit(X_train_smtom, y_train_smtom)"
   ]
  },
  {
   "cell_type": "markdown",
   "id": "e83b3844",
   "metadata": {},
   "source": [
    "# Evaluate Model on In-Sample and Out-of-Sample Data"
   ]
  },
  {
   "cell_type": "code",
   "execution_count": 9,
   "id": "c042b6bb",
   "metadata": {},
   "outputs": [],
   "source": [
    "# predict on train and validate\n",
    "rf_train_predictions = rf.predict(X_train_smtom)\n",
    "rf_validate_predictions = rf.predict(X_validate_scaled)"
   ]
  },
  {
   "cell_type": "code",
   "execution_count": 10,
   "id": "3e5ffe28",
   "metadata": {},
   "outputs": [],
   "source": [
    "# evaluate using classification report\n",
    "rf_report_train = pd.DataFrame(\n",
    "    classification_report(\n",
    "        y_train_smtom, \n",
    "        rf_train_predictions, \n",
    "        labels=[1, 0], \n",
    "        output_dict=True\n",
    "    )\n",
    ").T\n",
    "\n",
    "# evaluate using classification report\n",
    "rf_report_validate = pd.DataFrame(\n",
    "    classification_report(\n",
    "        y_validate, \n",
    "        rf_validate_predictions, \n",
    "        labels=[1, 0], \n",
    "        output_dict=True\n",
    "    )\n",
    ").T"
   ]
  },
  {
   "cell_type": "markdown",
   "id": "82f7462c",
   "metadata": {},
   "source": [
    "# Baseline and Model Results"
   ]
  },
  {
   "cell_type": "code",
   "execution_count": 11,
   "id": "37dbc75e",
   "metadata": {},
   "outputs": [
    {
     "data": {
      "text/html": [
       "<div>\n",
       "<style scoped>\n",
       "    .dataframe tbody tr th:only-of-type {\n",
       "        vertical-align: middle;\n",
       "    }\n",
       "\n",
       "    .dataframe tbody tr th {\n",
       "        vertical-align: top;\n",
       "    }\n",
       "\n",
       "    .dataframe thead th {\n",
       "        text-align: right;\n",
       "    }\n",
       "</style>\n",
       "<table border=\"1\" class=\"dataframe\">\n",
       "  <thead>\n",
       "    <tr style=\"text-align: right;\">\n",
       "      <th></th>\n",
       "      <th>precision</th>\n",
       "      <th>recall</th>\n",
       "      <th>f1-score</th>\n",
       "      <th>support</th>\n",
       "    </tr>\n",
       "  </thead>\n",
       "  <tbody>\n",
       "    <tr>\n",
       "      <th>1</th>\n",
       "      <td>0.50</td>\n",
       "      <td>1.0</td>\n",
       "      <td>0.666667</td>\n",
       "      <td>486792.0</td>\n",
       "    </tr>\n",
       "    <tr>\n",
       "      <th>0</th>\n",
       "      <td>0.00</td>\n",
       "      <td>0.0</td>\n",
       "      <td>0.000000</td>\n",
       "      <td>486792.0</td>\n",
       "    </tr>\n",
       "    <tr>\n",
       "      <th>accuracy</th>\n",
       "      <td>0.50</td>\n",
       "      <td>0.5</td>\n",
       "      <td>0.500000</td>\n",
       "      <td>0.5</td>\n",
       "    </tr>\n",
       "    <tr>\n",
       "      <th>macro avg</th>\n",
       "      <td>0.25</td>\n",
       "      <td>0.5</td>\n",
       "      <td>0.333333</td>\n",
       "      <td>973584.0</td>\n",
       "    </tr>\n",
       "    <tr>\n",
       "      <th>weighted avg</th>\n",
       "      <td>0.25</td>\n",
       "      <td>0.5</td>\n",
       "      <td>0.333333</td>\n",
       "      <td>973584.0</td>\n",
       "    </tr>\n",
       "  </tbody>\n",
       "</table>\n",
       "</div>"
      ],
      "text/plain": [
       "              precision  recall  f1-score   support\n",
       "1                  0.50     1.0  0.666667  486792.0\n",
       "0                  0.00     0.0  0.000000  486792.0\n",
       "accuracy           0.50     0.5  0.500000       0.5\n",
       "macro avg          0.25     0.5  0.333333  973584.0\n",
       "weighted avg       0.25     0.5  0.333333  973584.0"
      ]
     },
     "execution_count": 11,
     "metadata": {},
     "output_type": "execute_result"
    }
   ],
   "source": [
    "# baseline on in-sample\n",
    "bl_report_train"
   ]
  },
  {
   "cell_type": "code",
   "execution_count": 12,
   "id": "0d9aac06",
   "metadata": {},
   "outputs": [
    {
     "data": {
      "text/html": [
       "<div>\n",
       "<style scoped>\n",
       "    .dataframe tbody tr th:only-of-type {\n",
       "        vertical-align: middle;\n",
       "    }\n",
       "\n",
       "    .dataframe tbody tr th {\n",
       "        vertical-align: top;\n",
       "    }\n",
       "\n",
       "    .dataframe thead th {\n",
       "        text-align: right;\n",
       "    }\n",
       "</style>\n",
       "<table border=\"1\" class=\"dataframe\">\n",
       "  <thead>\n",
       "    <tr style=\"text-align: right;\">\n",
       "      <th></th>\n",
       "      <th>precision</th>\n",
       "      <th>recall</th>\n",
       "      <th>f1-score</th>\n",
       "      <th>support</th>\n",
       "    </tr>\n",
       "  </thead>\n",
       "  <tbody>\n",
       "    <tr>\n",
       "      <th>1</th>\n",
       "      <td>0.196510</td>\n",
       "      <td>1.00000</td>\n",
       "      <td>0.328472</td>\n",
       "      <td>71297.00000</td>\n",
       "    </tr>\n",
       "    <tr>\n",
       "      <th>0</th>\n",
       "      <td>0.000000</td>\n",
       "      <td>0.00000</td>\n",
       "      <td>0.000000</td>\n",
       "      <td>291519.00000</td>\n",
       "    </tr>\n",
       "    <tr>\n",
       "      <th>accuracy</th>\n",
       "      <td>0.196510</td>\n",
       "      <td>0.19651</td>\n",
       "      <td>0.196510</td>\n",
       "      <td>0.19651</td>\n",
       "    </tr>\n",
       "    <tr>\n",
       "      <th>macro avg</th>\n",
       "      <td>0.098255</td>\n",
       "      <td>0.50000</td>\n",
       "      <td>0.164236</td>\n",
       "      <td>362816.00000</td>\n",
       "    </tr>\n",
       "    <tr>\n",
       "      <th>weighted avg</th>\n",
       "      <td>0.038616</td>\n",
       "      <td>0.19651</td>\n",
       "      <td>0.064548</td>\n",
       "      <td>362816.00000</td>\n",
       "    </tr>\n",
       "  </tbody>\n",
       "</table>\n",
       "</div>"
      ],
      "text/plain": [
       "              precision   recall  f1-score       support\n",
       "1              0.196510  1.00000  0.328472   71297.00000\n",
       "0              0.000000  0.00000  0.000000  291519.00000\n",
       "accuracy       0.196510  0.19651  0.196510       0.19651\n",
       "macro avg      0.098255  0.50000  0.164236  362816.00000\n",
       "weighted avg   0.038616  0.19651  0.064548  362816.00000"
      ]
     },
     "execution_count": 12,
     "metadata": {},
     "output_type": "execute_result"
    }
   ],
   "source": [
    "# baseline on out-of-sample\n",
    "bl_report_validate"
   ]
  },
  {
   "cell_type": "code",
   "execution_count": 13,
   "id": "c2f0a892",
   "metadata": {},
   "outputs": [
    {
     "data": {
      "text/html": [
       "<div>\n",
       "<style scoped>\n",
       "    .dataframe tbody tr th:only-of-type {\n",
       "        vertical-align: middle;\n",
       "    }\n",
       "\n",
       "    .dataframe tbody tr th {\n",
       "        vertical-align: top;\n",
       "    }\n",
       "\n",
       "    .dataframe thead th {\n",
       "        text-align: right;\n",
       "    }\n",
       "</style>\n",
       "<table border=\"1\" class=\"dataframe\">\n",
       "  <thead>\n",
       "    <tr style=\"text-align: right;\">\n",
       "      <th></th>\n",
       "      <th>precision</th>\n",
       "      <th>recall</th>\n",
       "      <th>f1-score</th>\n",
       "      <th>support</th>\n",
       "    </tr>\n",
       "  </thead>\n",
       "  <tbody>\n",
       "    <tr>\n",
       "      <th>1</th>\n",
       "      <td>0.981474</td>\n",
       "      <td>0.596296</td>\n",
       "      <td>0.741868</td>\n",
       "      <td>486792.00000</td>\n",
       "    </tr>\n",
       "    <tr>\n",
       "      <th>0</th>\n",
       "      <td>0.710076</td>\n",
       "      <td>0.988745</td>\n",
       "      <td>0.826554</td>\n",
       "      <td>486792.00000</td>\n",
       "    </tr>\n",
       "    <tr>\n",
       "      <th>accuracy</th>\n",
       "      <td>0.792520</td>\n",
       "      <td>0.792520</td>\n",
       "      <td>0.792520</td>\n",
       "      <td>0.79252</td>\n",
       "    </tr>\n",
       "    <tr>\n",
       "      <th>macro avg</th>\n",
       "      <td>0.845775</td>\n",
       "      <td>0.792520</td>\n",
       "      <td>0.784211</td>\n",
       "      <td>973584.00000</td>\n",
       "    </tr>\n",
       "    <tr>\n",
       "      <th>weighted avg</th>\n",
       "      <td>0.845775</td>\n",
       "      <td>0.792520</td>\n",
       "      <td>0.784211</td>\n",
       "      <td>973584.00000</td>\n",
       "    </tr>\n",
       "  </tbody>\n",
       "</table>\n",
       "</div>"
      ],
      "text/plain": [
       "              precision    recall  f1-score       support\n",
       "1              0.981474  0.596296  0.741868  486792.00000\n",
       "0              0.710076  0.988745  0.826554  486792.00000\n",
       "accuracy       0.792520  0.792520  0.792520       0.79252\n",
       "macro avg      0.845775  0.792520  0.784211  973584.00000\n",
       "weighted avg   0.845775  0.792520  0.784211  973584.00000"
      ]
     },
     "execution_count": 13,
     "metadata": {},
     "output_type": "execute_result"
    }
   ],
   "source": [
    "# our model on in-sample\n",
    "rf_report_train"
   ]
  },
  {
   "cell_type": "code",
   "execution_count": 14,
   "id": "db203a53",
   "metadata": {},
   "outputs": [
    {
     "data": {
      "text/html": [
       "<div>\n",
       "<style scoped>\n",
       "    .dataframe tbody tr th:only-of-type {\n",
       "        vertical-align: middle;\n",
       "    }\n",
       "\n",
       "    .dataframe tbody tr th {\n",
       "        vertical-align: top;\n",
       "    }\n",
       "\n",
       "    .dataframe thead th {\n",
       "        text-align: right;\n",
       "    }\n",
       "</style>\n",
       "<table border=\"1\" class=\"dataframe\">\n",
       "  <thead>\n",
       "    <tr style=\"text-align: right;\">\n",
       "      <th></th>\n",
       "      <th>precision</th>\n",
       "      <th>recall</th>\n",
       "      <th>f1-score</th>\n",
       "      <th>support</th>\n",
       "    </tr>\n",
       "  </thead>\n",
       "  <tbody>\n",
       "    <tr>\n",
       "      <th>1</th>\n",
       "      <td>0.927900</td>\n",
       "      <td>0.595677</td>\n",
       "      <td>0.725567</td>\n",
       "      <td>71297.000000</td>\n",
       "    </tr>\n",
       "    <tr>\n",
       "      <th>0</th>\n",
       "      <td>0.909076</td>\n",
       "      <td>0.988680</td>\n",
       "      <td>0.947209</td>\n",
       "      <td>291519.000000</td>\n",
       "    </tr>\n",
       "    <tr>\n",
       "      <th>accuracy</th>\n",
       "      <td>0.911451</td>\n",
       "      <td>0.911451</td>\n",
       "      <td>0.911451</td>\n",
       "      <td>0.911451</td>\n",
       "    </tr>\n",
       "    <tr>\n",
       "      <th>macro avg</th>\n",
       "      <td>0.918488</td>\n",
       "      <td>0.792179</td>\n",
       "      <td>0.836388</td>\n",
       "      <td>362816.000000</td>\n",
       "    </tr>\n",
       "    <tr>\n",
       "      <th>weighted avg</th>\n",
       "      <td>0.912775</td>\n",
       "      <td>0.911451</td>\n",
       "      <td>0.903654</td>\n",
       "      <td>362816.000000</td>\n",
       "    </tr>\n",
       "  </tbody>\n",
       "</table>\n",
       "</div>"
      ],
      "text/plain": [
       "              precision    recall  f1-score        support\n",
       "1              0.927900  0.595677  0.725567   71297.000000\n",
       "0              0.909076  0.988680  0.947209  291519.000000\n",
       "accuracy       0.911451  0.911451  0.911451       0.911451\n",
       "macro avg      0.918488  0.792179  0.836388  362816.000000\n",
       "weighted avg   0.912775  0.911451  0.903654  362816.000000"
      ]
     },
     "execution_count": 14,
     "metadata": {},
     "output_type": "execute_result"
    }
   ],
   "source": [
    "# our model on out-of-sample\n",
    "rf_report_validate"
   ]
  },
  {
   "cell_type": "markdown",
   "id": "fd84005e",
   "metadata": {},
   "source": [
    "# Modeling MVP Takeaways\n",
    "With just two features, our Random Forest model (with no hyperparameter tuning) vastly outperformed our baseline. Here are the results:\n",
    "\n",
    "## 1. Baseline F1 Scores: 67% on in-sample, 33% on out-of-sample\n",
    "## 2. Random Forest F1 Scores: 74% on in-sample, 73% on out-of-sample"
   ]
  },
  {
   "cell_type": "code",
   "execution_count": null,
   "id": "fdebe543",
   "metadata": {},
   "outputs": [],
   "source": []
  }
 ],
 "metadata": {
  "kernelspec": {
   "display_name": "Python 3 (ipykernel)",
   "language": "python",
   "name": "python3"
  },
  "language_info": {
   "codemirror_mode": {
    "name": "ipython",
    "version": 3
   },
   "file_extension": ".py",
   "mimetype": "text/x-python",
   "name": "python",
   "nbconvert_exporter": "python",
   "pygments_lexer": "ipython3",
   "version": "3.8.8"
  }
 },
 "nbformat": 4,
 "nbformat_minor": 5
}
