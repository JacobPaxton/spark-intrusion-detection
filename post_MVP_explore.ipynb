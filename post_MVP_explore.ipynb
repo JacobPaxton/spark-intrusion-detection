{
 "cells": [
  {
   "cell_type": "markdown",
   "id": "6a92c365",
   "metadata": {},
   "source": [
    "# Post-MVP Exploration\n",
    "In this notebook, I go deeper into the network intrusion dataset to:\n",
    "1. Visualize additional bivariate feature comparisons\n",
    "2. Use hypothesis testing to remove non-predictive features\n",
    "3. Engineer features using a variety of techniques\n",
    "4. \n",
    "\n",
    "# Feature Engineering - Bottom Line Up Front (BLUF)\n",
    "Below are the candidate features that I will check in a Recursive Feature Elimination (RFE) evaluation for importance in prediction.\n",
    "- **Non-Zero Duration:** Normal traffic much more likely to be non-zero duration\n",
    "- **is_UDP:** UDP protocol is near-unanimously Normal\n",
    "- **is_ICMP:** ICMP protocol is almost entirely Anomalous\n",
    "- **is_TCP:** TCP is 6x more Normal than Anomalous\n",
    "- **is_HTTP:** HTTP is near-unanimously and massively Normal\n",
    "- **is_ECR_I:** ECR-I is near-unanimously and massively Anomalous\n",
    "- **is_SMTP:** SMTP is near-unanimously and massively Normal\n",
    "- **is_normal_service:** >70% Normal services determined through exploration\n",
    "    * ['IRC', 'X11', 'auth', 'domain_u', 'finger', 'ftp', 'ftp_data', 'http', 'ntp_u', 'other', 'pop_3', 'red_i', 'smtp', 'telnet', 'tftp_u', 'tim_i', 'time', 'urh_i', 'urp_i'] \n",
    "- **is_anomaly_service:** <30% Normal services determined through exploration\n",
    "    * ['Z39_50', 'aol', 'bgp', 'courier', 'csnet_ns', 'ctf', 'daytime', 'discard', 'domain', 'echo', 'eco_i', 'ecr_i', 'efs', 'exec', 'gopher', 'harvest', 'hostnames', 'http_443', 'http_8001', 'imap4', 'iso_tsap', 'klogin', 'kshell', 'ldap', 'link', 'login', 'mtp', 'name', 'netbios_dgm', 'netbios_ns', 'netbios_ssn', 'netstat', 'nnsp', 'nntp', 'pm_dump', 'pop_2', 'printer', 'remote_job', 'rje', 'shell', 'sql_net', 'ssh', 'sunrpc', 'supdup', 'systat', 'uucp', 'uucp_path', 'vmnet', 'whois']"
   ]
  },
  {
   "cell_type": "code",
   "execution_count": 1,
   "id": "0d7aa603",
   "metadata": {},
   "outputs": [
    {
     "name": "stderr",
     "output_type": "stream",
     "text": [
      "WARNING: An illegal reflective access operation has occurred\n",
      "WARNING: Illegal reflective access by org.apache.spark.unsafe.Platform (file:/opt/homebrew/anaconda3/lib/python3.8/site-packages/pyspark/jars/spark-unsafe_2.12-3.2.0.jar) to constructor java.nio.DirectByteBuffer(long,int)\n",
      "WARNING: Please consider reporting this to the maintainers of org.apache.spark.unsafe.Platform\n",
      "WARNING: Use --illegal-access=warn to enable warnings of further illegal reflective access operations\n",
      "WARNING: All illegal access operations will be denied in a future release\n",
      "Using Spark's default log4j profile: org/apache/spark/log4j-defaults.properties\n",
      "Setting default log level to \"WARN\".\n",
      "To adjust logging level use sc.setLogLevel(newLevel). For SparkR, use setLogLevel(newLevel).\n",
      "22/01/27 19:44:33 WARN NativeCodeLoader: Unable to load native-hadoop library for your platform... using builtin-java classes where applicable\n"
     ]
    }
   ],
   "source": [
    "import pandas as pd\n",
    "import seaborn as sns\n",
    "import matplotlib.pyplot as plt\n",
    "\n",
    "import pyspark\n",
    "spark = pyspark.sql.SparkSession.builder.getOrCreate()\n",
    "from pyspark.sql.functions import *\n",
    "from pyspark.sql.types import *\n",
    "\n",
    "import wrangle"
   ]
  },
  {
   "cell_type": "code",
   "execution_count": 2,
   "id": "a6e3276e",
   "metadata": {},
   "outputs": [
    {
     "name": "stderr",
     "output_type": "stream",
     "text": [
      "                                                                                \r"
     ]
    }
   ],
   "source": [
    "df, train = wrangle.prep_explore()"
   ]
  },
  {
   "cell_type": "code",
   "execution_count": 3,
   "id": "8437d9d1",
   "metadata": {},
   "outputs": [
    {
     "name": "stderr",
     "output_type": "stream",
     "text": [
      "22/01/27 19:44:48 WARN package: Truncated the string representation of a plan since it was too large. This behavior can be adjusted by setting 'spark.sql.debug.maxToStringFields'.\n",
      "                                                                                \r"
     ]
    },
    {
     "name": "stdout",
     "output_type": "stream",
     "text": [
      "-RECORD 0--------------------------------\n",
      " duration                    | 0         \n",
      " protocol_type               | icmp      \n",
      " service                     | eco_i     \n",
      " flag                        | SF        \n",
      " src_bytes                   | 8         \n",
      " dst_bytes                   | 0         \n",
      " land                        | 0         \n",
      " wrong_fragment              | 0         \n",
      " urgent                      | 0         \n",
      " hot                         | 0         \n",
      " num_failed_logins           | 0         \n",
      " logged_in                   | 0         \n",
      " num_compromised             | 0         \n",
      " root_shell                  | 0         \n",
      " su_attempted                | 0         \n",
      " num_root                    | 0         \n",
      " num_file_creations          | 0         \n",
      " num_shells                  | 0         \n",
      " num_access_files            | 0         \n",
      " num_outbound_cmds           | 0         \n",
      " is_host_login               | 0         \n",
      " is_guest_login              | 0         \n",
      " count                       | 1         \n",
      " srv_count                   | 1         \n",
      " serror_rate                 | 0.0       \n",
      " srv_serror_rate             | 0.0       \n",
      " rerror_rate                 | 0.0       \n",
      " srv_rerror_rate             | 0.0       \n",
      " same_srv_rate               | 1.0       \n",
      " diff_srv_rate               | 0.0       \n",
      " srv_diff_host_rate          | 0.0       \n",
      " dst_host_count              | 1         \n",
      " dst_host_srv_count          | 255       \n",
      " dst_host_same_srv_rate      | 1.0       \n",
      " dst_host_diff_srv_rate      | 0.0       \n",
      " dst_host_same_src_port_rate | 1.0       \n",
      " dst_host_srv_diff_host_rate | 0.5       \n",
      " dst_host_serror_rate        | 0.0       \n",
      " dst_host_srv_serror_rate    | 0.0       \n",
      " dst_host_rerror_rate        | 0.0       \n",
      " dst_host_srv_rerror_rate    | 0.0       \n",
      " target                      | anomalous \n",
      "only showing top 1 row\n",
      "\n"
     ]
    }
   ],
   "source": [
    "train.show(1, vertical=True)"
   ]
  },
  {
   "cell_type": "markdown",
   "id": "26cb1abf",
   "metadata": {},
   "source": [
    "# duration"
   ]
  },
  {
   "cell_type": "code",
   "execution_count": 4,
   "id": "23906593",
   "metadata": {},
   "outputs": [
    {
     "name": "stderr",
     "output_type": "stream",
     "text": [
      "                                                                                \r"
     ]
    }
   ],
   "source": [
    "# select columns\n",
    "duration_target = train.select('duration', 'target').toPandas()"
   ]
  },
  {
   "cell_type": "code",
   "execution_count": 5,
   "id": "3725eafb",
   "metadata": {},
   "outputs": [
    {
     "data": {
      "image/png": "[encoded data removed]",
      "text/plain": [
       "<Figure size 432x288 with 1 Axes>"
      ]
     },
     "metadata": {
      "needs_background": "light"
     },
     "output_type": "display_data"
    },
    {
     "data": {
      "image/png": "[encoded data removed]",
      "text/plain": [
       "<Figure size 432x288 with 1 Axes>"
      ]
     },
     "metadata": {
      "needs_background": "light"
     },
     "output_type": "display_data"
    }
   ],
   "source": [
    "# check histogram of each class for durations\n",
    "sns.histplot(duration_target[duration_target.target == 'normal'].duration)\n",
    "plt.title('TCP Session Durations for Normal')\n",
    "plt.show()\n",
    "\n",
    "sns.histplot(duration_target[duration_target.target == 'anomalous'].duration, color='orange')\n",
    "plt.title('TCP Session Durations for Anomaly')\n",
    "plt.show()"
   ]
  },
  {
   "cell_type": "markdown",
   "id": "62a75b52",
   "metadata": {},
   "source": [
    "### Histogram Observations\n",
    "- Duration for both classes seems almost entirely attributed to the near-zero range\n",
    "- Duration for the Anomalous class might always be zero\n",
    "\n",
    "Let's check each class without zero-duration observations."
   ]
  },
  {
   "cell_type": "code",
   "execution_count": 6,
   "id": "1ae224d1",
   "metadata": {},
   "outputs": [
    {
     "data": {
      "image/png": "[encoded data removed]",
      "text/plain": [
       "<Figure size 864x360 with 1 Axes>"
      ]
     },
     "metadata": {
      "needs_background": "light"
     },
     "output_type": "display_data"
    },
    {
     "data": {
      "image/png": "[encoded data removed]",
      "text/plain": [
       "<Figure size 864x360 with 1 Axes>"
      ]
     },
     "metadata": {
      "needs_background": "light"
     },
     "output_type": "display_data"
    }
   ],
   "source": [
    "# check if anomaly has durations greater than zero\n",
    "mask = (duration_target.target == 'normal') & (duration_target.duration > 0) & (duration_target.duration < 100)\n",
    "plt.figure(figsize=(12,5))\n",
    "sns.histplot(duration_target[mask].duration)\n",
    "plt.title('Histogram of Normal Traffic with Non-Zero Duration (View Values Under 100 Duration)')\n",
    "plt.show()\n",
    "\n",
    "mask = (duration_target.target == 'anomalous') & (duration_target.duration > 0) & (duration_target.duration < 100)\n",
    "plt.figure(figsize=(12,5))\n",
    "sns.histplot(duration_target[mask].duration, color='orange')\n",
    "plt.title('Histogram of Anomalous Traffic with Non-Zero Duration (View Values Under 100 Duration)')\n",
    "plt.show()"
   ]
  },
  {
   "cell_type": "markdown",
   "id": "7af76cf2",
   "metadata": {},
   "source": [
    "### Non-Zero Duration Observations\n",
    "1. Both classes have low value counts at TCP connection durations higher than 10 seconds (5 duration)\n",
    "2. Nearly all anomalous values are zero-duration TCP connections (shorter than 2 seconds)\n",
    "    * Domain knowledge: DOS attacks are repeated, short-duration TCP connections\n",
    "    * Domain knowledge: Illicit activity and attempts are often low-duration TCP connections due to various factors\n",
    "3. Normal-class durations are mostly zero but not as dense in zero-duration TCP connections\n",
    "    * Domain knowledge: Longer-duration TCP connections are often for various services conducted legitimately\n",
    "4. Normal connections have tens of thousands of non-zero durations; anomalous conenctions have less than a thousand\n",
    "\n",
    "## Duration Takeaways\n",
    "- Both classes have most observations with zero duration for TCP connections\n",
    "- Durations above zero are much more likely to be legitimate\n",
    "- **Feature Engineering: One-hot for duration > 0**\n",
    "\n",
    "# protocol_type"
   ]
  },
  {
   "cell_type": "code",
   "execution_count": 7,
   "id": "97c4fb78",
   "metadata": {},
   "outputs": [
    {
     "name": "stderr",
     "output_type": "stream",
     "text": [
      "22/01/27 19:45:20 WARN RowBasedKeyValueBatch: Calling spill() on RowBasedKeyValueBatch. Will not spill but return 0.\n",
      "22/01/27 19:45:20 WARN RowBasedKeyValueBatch: Calling spill() on RowBasedKeyValueBatch. Will not spill but return 0.\n",
      "22/01/27 19:45:20 WARN RowBasedKeyValueBatch: Calling spill() on RowBasedKeyValueBatch. Will not spill but return 0.\n",
      "22/01/27 19:45:21 WARN RowBasedKeyValueBatch: Calling spill() on RowBasedKeyValueBatch. Will not spill but return 0.\n",
      "22/01/27 19:45:24 WARN RowBasedKeyValueBatch: Calling spill() on RowBasedKeyValueBatch. Will not spill but return 0.\n",
      "                                                                                \r"
     ]
    },
    {
     "data": {
      "text/html": [
       "<div>\n",
       "<style scoped>\n",
       "    .dataframe tbody tr th:only-of-type {\n",
       "        vertical-align: middle;\n",
       "    }\n",
       "\n",
       "    .dataframe tbody tr th {\n",
       "        vertical-align: top;\n",
       "    }\n",
       "\n",
       "    .dataframe thead th {\n",
       "        text-align: right;\n",
       "    }\n",
       "</style>\n",
       "<table border=\"1\" class=\"dataframe\">\n",
       "  <thead>\n",
       "    <tr style=\"text-align: right;\">\n",
       "      <th></th>\n",
       "      <th>target</th>\n",
       "      <th>protocol_type</th>\n",
       "      <th>count_target</th>\n",
       "    </tr>\n",
       "  </thead>\n",
       "  <tbody>\n",
       "    <tr>\n",
       "      <th>0</th>\n",
       "      <td>normal</td>\n",
       "      <td>udp</td>\n",
       "      <td>95493</td>\n",
       "    </tr>\n",
       "    <tr>\n",
       "      <th>1</th>\n",
       "      <td>normal</td>\n",
       "      <td>icmp</td>\n",
       "      <td>6475</td>\n",
       "    </tr>\n",
       "    <tr>\n",
       "      <th>2</th>\n",
       "      <td>anomalous</td>\n",
       "      <td>icmp</td>\n",
       "      <td>76632</td>\n",
       "    </tr>\n",
       "    <tr>\n",
       "      <th>3</th>\n",
       "      <td>normal</td>\n",
       "      <td>tcp</td>\n",
       "      <td>384882</td>\n",
       "    </tr>\n",
       "    <tr>\n",
       "      <th>4</th>\n",
       "      <td>anomalous</td>\n",
       "      <td>tcp</td>\n",
       "      <td>41776</td>\n",
       "    </tr>\n",
       "    <tr>\n",
       "      <th>5</th>\n",
       "      <td>anomalous</td>\n",
       "      <td>udp</td>\n",
       "      <td>1443</td>\n",
       "    </tr>\n",
       "  </tbody>\n",
       "</table>\n",
       "</div>"
      ],
      "text/plain": [
       "      target protocol_type  count_target\n",
       "0     normal           udp         95493\n",
       "1     normal          icmp          6475\n",
       "2  anomalous          icmp         76632\n",
       "3     normal           tcp        384882\n",
       "4  anomalous           tcp         41776\n",
       "5  anomalous           udp          1443"
      ]
     },
     "execution_count": 7,
     "metadata": {},
     "output_type": "execute_result"
    }
   ],
   "source": [
    "# use Spark groupby to create barplot specifications\n",
    "protocol_type_target = train.groupBy('target', 'protocol_type')\\\n",
    "    .agg(count('target').alias('count_target')).toPandas()\n",
    "protocol_type_target"
   ]
  },
  {
   "cell_type": "code",
   "execution_count": 8,
   "id": "69bb3c4b",
   "metadata": {},
   "outputs": [
    {
     "data": {
      "image/png": "[encoded data removed]",
      "text/plain": [
       "<Figure size 450.75x360 with 1 Axes>"
      ]
     },
     "metadata": {
      "needs_background": "light"
     },
     "output_type": "display_data"
    }
   ],
   "source": [
    "# plot counts\n",
    "sns.catplot(data=protocol_type_target, x='protocol_type', y='count_target', hue='target', kind='bar')\n",
    "plt.title('Count of Protocol Type By Target Class')\n",
    "plt.ylabel('Count')\n",
    "plt.show()"
   ]
  },
  {
   "cell_type": "markdown",
   "id": "6118af2d",
   "metadata": {},
   "source": [
    "## Protocol Type Takeaways\n",
    "1. Each protocol type has vastly different counts between Normal and Anomaly observations\n",
    "    * **Protocol Type, therefore, is an excellent predictive candidate**\n",
    "2. UDP is near-universally a Normal protocol\n",
    "3. ICMP is on the order of 10:1 ratio for Anomaly:Normal\n",
    "4. TCP is close to 1:6 ratio for Anomaly:Normal\n",
    "5. **Feature Engineering: is_UDP, is_ICMP, is_TCP**\n",
    "\n",
    "# service"
   ]
  },
  {
   "cell_type": "code",
   "execution_count": 9,
   "id": "7ccc81de",
   "metadata": {},
   "outputs": [
    {
     "name": "stderr",
     "output_type": "stream",
     "text": [
      "22/01/27 19:45:32 WARN RowBasedKeyValueBatch: Calling spill() on RowBasedKeyValueBatch. Will not spill but return 0.\n",
      "22/01/27 19:45:32 WARN RowBasedKeyValueBatch: Calling spill() on RowBasedKeyValueBatch. Will not spill but return 0.\n",
      "22/01/27 19:45:32 WARN RowBasedKeyValueBatch: Calling spill() on RowBasedKeyValueBatch. Will not spill but return 0.\n",
      "22/01/27 19:45:34 WARN RowBasedKeyValueBatch: Calling spill() on RowBasedKeyValueBatch. Will not spill but return 0.\n",
      "22/01/27 19:45:36 WARN RowBasedKeyValueBatch: Calling spill() on RowBasedKeyValueBatch. Will not spill but return 0.\n",
      "                                                                                \r"
     ]
    },
    {
     "data": {
      "text/html": [
       "<div>\n",
       "<style scoped>\n",
       "    .dataframe tbody tr th:only-of-type {\n",
       "        vertical-align: middle;\n",
       "    }\n",
       "\n",
       "    .dataframe tbody tr th {\n",
       "        vertical-align: top;\n",
       "    }\n",
       "\n",
       "    .dataframe thead th {\n",
       "        text-align: right;\n",
       "    }\n",
       "</style>\n",
       "<table border=\"1\" class=\"dataframe\">\n",
       "  <thead>\n",
       "    <tr style=\"text-align: right;\">\n",
       "      <th></th>\n",
       "      <th>target</th>\n",
       "      <th>service</th>\n",
       "      <th>count_target</th>\n",
       "    </tr>\n",
       "  </thead>\n",
       "  <tbody>\n",
       "    <tr>\n",
       "      <th>0</th>\n",
       "      <td>anomalous</td>\n",
       "      <td>imap4</td>\n",
       "      <td>45</td>\n",
       "    </tr>\n",
       "    <tr>\n",
       "      <th>1</th>\n",
       "      <td>anomalous</td>\n",
       "      <td>login</td>\n",
       "      <td>29</td>\n",
       "    </tr>\n",
       "    <tr>\n",
       "      <th>2</th>\n",
       "      <td>anomalous</td>\n",
       "      <td>daytime</td>\n",
       "      <td>42</td>\n",
       "    </tr>\n",
       "    <tr>\n",
       "      <th>3</th>\n",
       "      <td>anomalous</td>\n",
       "      <td>http</td>\n",
       "      <td>1134</td>\n",
       "    </tr>\n",
       "    <tr>\n",
       "      <th>4</th>\n",
       "      <td>anomalous</td>\n",
       "      <td>telnet</td>\n",
       "      <td>118</td>\n",
       "    </tr>\n",
       "    <tr>\n",
       "      <th>...</th>\n",
       "      <td>...</td>\n",
       "      <td>...</td>\n",
       "      <td>...</td>\n",
       "    </tr>\n",
       "    <tr>\n",
       "      <th>86</th>\n",
       "      <td>normal</td>\n",
       "      <td>tim_i</td>\n",
       "      <td>3</td>\n",
       "    </tr>\n",
       "    <tr>\n",
       "      <th>87</th>\n",
       "      <td>normal</td>\n",
       "      <td>red_i</td>\n",
       "      <td>6</td>\n",
       "    </tr>\n",
       "    <tr>\n",
       "      <th>88</th>\n",
       "      <td>anomalous</td>\n",
       "      <td>http_8001</td>\n",
       "      <td>2</td>\n",
       "    </tr>\n",
       "    <tr>\n",
       "      <th>89</th>\n",
       "      <td>anomalous</td>\n",
       "      <td>aol</td>\n",
       "      <td>1</td>\n",
       "    </tr>\n",
       "    <tr>\n",
       "      <th>90</th>\n",
       "      <td>anomalous</td>\n",
       "      <td>urp_i</td>\n",
       "      <td>2</td>\n",
       "    </tr>\n",
       "  </tbody>\n",
       "</table>\n",
       "<p>91 rows × 3 columns</p>\n",
       "</div>"
      ],
      "text/plain": [
       "       target    service  count_target\n",
       "0   anomalous      imap4            45\n",
       "1   anomalous      login            29\n",
       "2   anomalous    daytime            42\n",
       "3   anomalous       http          1134\n",
       "4   anomalous     telnet           118\n",
       "..        ...        ...           ...\n",
       "86     normal      tim_i             3\n",
       "87     normal      red_i             6\n",
       "88  anomalous  http_8001             2\n",
       "89  anomalous        aol             1\n",
       "90  anomalous      urp_i             2\n",
       "\n",
       "[91 rows x 3 columns]"
      ]
     },
     "execution_count": 9,
     "metadata": {},
     "output_type": "execute_result"
    }
   ],
   "source": [
    "# use Spark groupby to create barplot specifications\n",
    "service_target = train.groupBy('target', 'service')\\\n",
    "    .agg(count('target').alias('count_target')).toPandas()\n",
    "service_target"
   ]
  },
  {
   "cell_type": "code",
   "execution_count": 10,
   "id": "a556dbb4",
   "metadata": {},
   "outputs": [
    {
     "data": {
      "text/html": [
       "<div>\n",
       "<style scoped>\n",
       "    .dataframe tbody tr th:only-of-type {\n",
       "        vertical-align: middle;\n",
       "    }\n",
       "\n",
       "    .dataframe tbody tr th {\n",
       "        vertical-align: top;\n",
       "    }\n",
       "\n",
       "    .dataframe thead th {\n",
       "        text-align: right;\n",
       "    }\n",
       "</style>\n",
       "<table border=\"1\" class=\"dataframe\">\n",
       "  <thead>\n",
       "    <tr style=\"text-align: right;\">\n",
       "      <th></th>\n",
       "      <th>target</th>\n",
       "      <th>service</th>\n",
       "      <th>count_target</th>\n",
       "    </tr>\n",
       "  </thead>\n",
       "  <tbody>\n",
       "    <tr>\n",
       "      <th>73</th>\n",
       "      <td>normal</td>\n",
       "      <td>eco_i</td>\n",
       "      <td>1879</td>\n",
       "    </tr>\n",
       "    <tr>\n",
       "      <th>65</th>\n",
       "      <td>normal</td>\n",
       "      <td>http</td>\n",
       "      <td>310105</td>\n",
       "    </tr>\n",
       "    <tr>\n",
       "      <th>19</th>\n",
       "      <td>normal</td>\n",
       "      <td>ftp_data</td>\n",
       "      <td>18978</td>\n",
       "    </tr>\n",
       "    <tr>\n",
       "      <th>23</th>\n",
       "      <td>normal</td>\n",
       "      <td>private</td>\n",
       "      <td>37000</td>\n",
       "    </tr>\n",
       "    <tr>\n",
       "      <th>32</th>\n",
       "      <td>normal</td>\n",
       "      <td>auth</td>\n",
       "      <td>1166</td>\n",
       "    </tr>\n",
       "    <tr>\n",
       "      <th>43</th>\n",
       "      <td>normal</td>\n",
       "      <td>urp_i</td>\n",
       "      <td>2751</td>\n",
       "    </tr>\n",
       "    <tr>\n",
       "      <th>45</th>\n",
       "      <td>normal</td>\n",
       "      <td>domain_u</td>\n",
       "      <td>28819</td>\n",
       "    </tr>\n",
       "    <tr>\n",
       "      <th>69</th>\n",
       "      <td>normal</td>\n",
       "      <td>ntp_u</td>\n",
       "      <td>1881</td>\n",
       "    </tr>\n",
       "    <tr>\n",
       "      <th>50</th>\n",
       "      <td>normal</td>\n",
       "      <td>ecr_i</td>\n",
       "      <td>1769</td>\n",
       "    </tr>\n",
       "    <tr>\n",
       "      <th>17</th>\n",
       "      <td>normal</td>\n",
       "      <td>other</td>\n",
       "      <td>28120</td>\n",
       "    </tr>\n",
       "    <tr>\n",
       "      <th>55</th>\n",
       "      <td>normal</td>\n",
       "      <td>smtp</td>\n",
       "      <td>47811</td>\n",
       "    </tr>\n",
       "    <tr>\n",
       "      <th>56</th>\n",
       "      <td>normal</td>\n",
       "      <td>telnet</td>\n",
       "      <td>1088</td>\n",
       "    </tr>\n",
       "    <tr>\n",
       "      <th>62</th>\n",
       "      <td>normal</td>\n",
       "      <td>ftp</td>\n",
       "      <td>1867</td>\n",
       "    </tr>\n",
       "    <tr>\n",
       "      <th>64</th>\n",
       "      <td>normal</td>\n",
       "      <td>finger</td>\n",
       "      <td>2469</td>\n",
       "    </tr>\n",
       "    <tr>\n",
       "      <th>67</th>\n",
       "      <td>anomalous</td>\n",
       "      <td>other</td>\n",
       "      <td>7537</td>\n",
       "    </tr>\n",
       "    <tr>\n",
       "      <th>3</th>\n",
       "      <td>anomalous</td>\n",
       "      <td>http</td>\n",
       "      <td>1134</td>\n",
       "    </tr>\n",
       "    <tr>\n",
       "      <th>59</th>\n",
       "      <td>anomalous</td>\n",
       "      <td>ecr_i</td>\n",
       "      <td>70303</td>\n",
       "    </tr>\n",
       "    <tr>\n",
       "      <th>48</th>\n",
       "      <td>anomalous</td>\n",
       "      <td>eco_i</td>\n",
       "      <td>6326</td>\n",
       "    </tr>\n",
       "    <tr>\n",
       "      <th>54</th>\n",
       "      <td>anomalous</td>\n",
       "      <td>private</td>\n",
       "      <td>32015</td>\n",
       "    </tr>\n",
       "  </tbody>\n",
       "</table>\n",
       "</div>"
      ],
      "text/plain": [
       "       target   service  count_target\n",
       "73     normal     eco_i          1879\n",
       "65     normal      http        310105\n",
       "19     normal  ftp_data         18978\n",
       "23     normal   private         37000\n",
       "32     normal      auth          1166\n",
       "43     normal     urp_i          2751\n",
       "45     normal  domain_u         28819\n",
       "69     normal     ntp_u          1881\n",
       "50     normal     ecr_i          1769\n",
       "17     normal     other         28120\n",
       "55     normal      smtp         47811\n",
       "56     normal    telnet          1088\n",
       "62     normal       ftp          1867\n",
       "64     normal    finger          2469\n",
       "67  anomalous     other          7537\n",
       "3   anomalous      http          1134\n",
       "59  anomalous     ecr_i         70303\n",
       "48  anomalous     eco_i          6326\n",
       "54  anomalous   private         32015"
      ]
     },
     "execution_count": 10,
     "metadata": {},
     "output_type": "execute_result"
    }
   ],
   "source": [
    "# limit options to main services\n",
    "service_target_over_1000 = service_target[service_target.count_target > 1000]\\\n",
    "    .sort_values(by='target', ascending=False)\n",
    "service_target_over_1000"
   ]
  },
  {
   "cell_type": "code",
   "execution_count": 11,
   "id": "700cbe77",
   "metadata": {},
   "outputs": [
    {
     "data": {
      "image/png": "[encoded data removed]",
      "text/plain": [
       "<Figure size 1080x504 with 1 Axes>"
      ]
     },
     "metadata": {
      "needs_background": "light"
     },
     "output_type": "display_data"
    }
   ],
   "source": [
    "# plot counts\n",
    "plt.figure(figsize=(15,7))\n",
    "sns.barplot(data=service_target_over_1000, x='service', y='count_target', hue='target')\n",
    "plt.title('Count of Service By Target Class')\n",
    "plt.ylabel('Count')\n",
    "plt.legend(loc='upper right')\n",
    "plt.show()"
   ]
  },
  {
   "cell_type": "markdown",
   "id": "111408b3",
   "metadata": {},
   "source": [
    "### Bar Plot Observations\n",
    "1. HTTP is near-unanimously Normal, and massively significant\n",
    "2. ECR-I has nearly 75,000 observations and is almost entirely Anomalous\n",
    "3. SMTP is around 50,000 observations and almost entirely Normal\n",
    "4. From a cursory look, most other services are mostly Normal, split on Normal or Anomalous, or too-low value count\n",
    "\n",
    "Let's look at the ratios on each service with less than 50,000 observations in a class. (This eliminates the services we've already taken down in the above observations.) \n",
    "\n",
    "The goal is to determine which features are mostly-Normal (>70%) so that we can group the services into a single feature for is_normal_service."
   ]
  },
  {
   "cell_type": "code",
   "execution_count": 12,
   "id": "ec1c888a",
   "metadata": {},
   "outputs": [
    {
     "data": {
      "text/html": [
       "<div>\n",
       "<style scoped>\n",
       "    .dataframe tbody tr th:only-of-type {\n",
       "        vertical-align: middle;\n",
       "    }\n",
       "\n",
       "    .dataframe tbody tr th {\n",
       "        vertical-align: top;\n",
       "    }\n",
       "\n",
       "    .dataframe thead th {\n",
       "        text-align: right;\n",
       "    }\n",
       "</style>\n",
       "<table border=\"1\" class=\"dataframe\">\n",
       "  <thead>\n",
       "    <tr style=\"text-align: right;\">\n",
       "      <th></th>\n",
       "      <th>count_target</th>\n",
       "    </tr>\n",
       "    <tr>\n",
       "      <th>service</th>\n",
       "      <th></th>\n",
       "    </tr>\n",
       "  </thead>\n",
       "  <tbody>\n",
       "    <tr>\n",
       "      <th>IRC</th>\n",
       "      <td>255</td>\n",
       "    </tr>\n",
       "    <tr>\n",
       "      <th>X11</th>\n",
       "      <td>69</td>\n",
       "    </tr>\n",
       "    <tr>\n",
       "      <th>Z39_50</th>\n",
       "      <td>34</td>\n",
       "    </tr>\n",
       "  </tbody>\n",
       "</table>\n",
       "</div>"
      ],
      "text/plain": [
       "         count_target\n",
       "service              \n",
       "IRC               255\n",
       "X11                69\n",
       "Z39_50             34"
      ]
     },
     "execution_count": 12,
     "metadata": {},
     "output_type": "execute_result"
    }
   ],
   "source": [
    "# groupby\n",
    "service_totals = pd.DataFrame(service_target\\\n",
    "                              .groupby('service')\\\n",
    "                              .count_target\\\n",
    "                              .sum())\n",
    "service_totals.head(3)"
   ]
  },
  {
   "cell_type": "code",
   "execution_count": 13,
   "id": "c19c2b29",
   "metadata": {},
   "outputs": [
    {
     "data": {
      "text/html": [
       "<div>\n",
       "<style scoped>\n",
       "    .dataframe tbody tr th:only-of-type {\n",
       "        vertical-align: middle;\n",
       "    }\n",
       "\n",
       "    .dataframe tbody tr th {\n",
       "        vertical-align: top;\n",
       "    }\n",
       "\n",
       "    .dataframe thead th {\n",
       "        text-align: right;\n",
       "    }\n",
       "</style>\n",
       "<table border=\"1\" class=\"dataframe\">\n",
       "  <thead>\n",
       "    <tr style=\"text-align: right;\">\n",
       "      <th></th>\n",
       "      <th>count_target</th>\n",
       "      <th>count_normal</th>\n",
       "    </tr>\n",
       "    <tr>\n",
       "      <th>service</th>\n",
       "      <th></th>\n",
       "      <th></th>\n",
       "    </tr>\n",
       "  </thead>\n",
       "  <tbody>\n",
       "    <tr>\n",
       "      <th>IRC</th>\n",
       "      <td>255</td>\n",
       "      <td>254.0</td>\n",
       "    </tr>\n",
       "    <tr>\n",
       "      <th>X11</th>\n",
       "      <td>69</td>\n",
       "      <td>68.0</td>\n",
       "    </tr>\n",
       "    <tr>\n",
       "      <th>Z39_50</th>\n",
       "      <td>34</td>\n",
       "      <td>NaN</td>\n",
       "    </tr>\n",
       "  </tbody>\n",
       "</table>\n",
       "</div>"
      ],
      "text/plain": [
       "         count_target  count_normal\n",
       "service                            \n",
       "IRC               255         254.0\n",
       "X11                69          68.0\n",
       "Z39_50             34           NaN"
      ]
     },
     "execution_count": 13,
     "metadata": {},
     "output_type": "execute_result"
    }
   ],
   "source": [
    "# loop services in un-grouped using mask for Normal, use .loc to add to new column in grouped\n",
    "norm_tgt_mask = service_target.target == 'normal'\n",
    "for srv in service_target[norm_tgt_mask].service.unique():\n",
    "    srv_mask = service_target.service == srv\n",
    "    count_normal = service_target[norm_tgt_mask & srv_mask].count_target.item()\n",
    "    service_totals.loc[srv, 'count_normal'] = count_normal\n",
    "\n",
    "service_totals.head(3)"
   ]
  },
  {
   "cell_type": "code",
   "execution_count": 14,
   "id": "63c1581c",
   "metadata": {},
   "outputs": [
    {
     "data": {
      "text/html": [
       "<div>\n",
       "<style scoped>\n",
       "    .dataframe tbody tr th:only-of-type {\n",
       "        vertical-align: middle;\n",
       "    }\n",
       "\n",
       "    .dataframe tbody tr th {\n",
       "        vertical-align: top;\n",
       "    }\n",
       "\n",
       "    .dataframe thead th {\n",
       "        text-align: right;\n",
       "    }\n",
       "</style>\n",
       "<table border=\"1\" class=\"dataframe\">\n",
       "  <thead>\n",
       "    <tr style=\"text-align: right;\">\n",
       "      <th></th>\n",
       "      <th>count_target</th>\n",
       "      <th>count_normal</th>\n",
       "    </tr>\n",
       "    <tr>\n",
       "      <th>service</th>\n",
       "      <th></th>\n",
       "      <th></th>\n",
       "    </tr>\n",
       "  </thead>\n",
       "  <tbody>\n",
       "    <tr>\n",
       "      <th>IRC</th>\n",
       "      <td>255</td>\n",
       "      <td>254</td>\n",
       "    </tr>\n",
       "    <tr>\n",
       "      <th>X11</th>\n",
       "      <td>69</td>\n",
       "      <td>68</td>\n",
       "    </tr>\n",
       "    <tr>\n",
       "      <th>Z39_50</th>\n",
       "      <td>34</td>\n",
       "      <td>0</td>\n",
       "    </tr>\n",
       "  </tbody>\n",
       "</table>\n",
       "</div>"
      ],
      "text/plain": [
       "         count_target  count_normal\n",
       "service                            \n",
       "IRC               255           254\n",
       "X11                69            68\n",
       "Z39_50             34             0"
      ]
     },
     "execution_count": 14,
     "metadata": {},
     "output_type": "execute_result"
    }
   ],
   "source": [
    "# fill nulls with 0, since a null value in count_normal indicates zero observations for that service and Normal\n",
    "service_totals = service_totals.fillna(0).astype('int')\n",
    "service_totals.head(3)"
   ]
  },
  {
   "cell_type": "code",
   "execution_count": 15,
   "id": "f17db788",
   "metadata": {},
   "outputs": [
    {
     "data": {
      "text/html": [
       "<div>\n",
       "<style scoped>\n",
       "    .dataframe tbody tr th:only-of-type {\n",
       "        vertical-align: middle;\n",
       "    }\n",
       "\n",
       "    .dataframe tbody tr th {\n",
       "        vertical-align: top;\n",
       "    }\n",
       "\n",
       "    .dataframe thead th {\n",
       "        text-align: right;\n",
       "    }\n",
       "</style>\n",
       "<table border=\"1\" class=\"dataframe\">\n",
       "  <thead>\n",
       "    <tr style=\"text-align: right;\">\n",
       "      <th></th>\n",
       "      <th>count_target</th>\n",
       "      <th>count_normal</th>\n",
       "      <th>ratio_normal</th>\n",
       "    </tr>\n",
       "    <tr>\n",
       "      <th>service</th>\n",
       "      <th></th>\n",
       "      <th></th>\n",
       "      <th></th>\n",
       "    </tr>\n",
       "  </thead>\n",
       "  <tbody>\n",
       "    <tr>\n",
       "      <th>IRC</th>\n",
       "      <td>255</td>\n",
       "      <td>254</td>\n",
       "      <td>0.996</td>\n",
       "    </tr>\n",
       "    <tr>\n",
       "      <th>X11</th>\n",
       "      <td>69</td>\n",
       "      <td>68</td>\n",
       "      <td>0.986</td>\n",
       "    </tr>\n",
       "    <tr>\n",
       "      <th>Z39_50</th>\n",
       "      <td>34</td>\n",
       "      <td>0</td>\n",
       "      <td>0.000</td>\n",
       "    </tr>\n",
       "  </tbody>\n",
       "</table>\n",
       "</div>"
      ],
      "text/plain": [
       "         count_target  count_normal  ratio_normal\n",
       "service                                          \n",
       "IRC               255           254         0.996\n",
       "X11                69            68         0.986\n",
       "Z39_50             34             0         0.000"
      ]
     },
     "execution_count": 15,
     "metadata": {},
     "output_type": "execute_result"
    }
   ],
   "source": [
    "# create ratio column of normal / total count\n",
    "service_totals['ratio_normal'] = (service_totals.count_normal / \n",
    "                                            service_totals.count_target).round(3)\n",
    "service_totals.head(3)"
   ]
  },
  {
   "cell_type": "code",
   "execution_count": 16,
   "id": "02c9f0bc",
   "metadata": {},
   "outputs": [
    {
     "data": {
      "text/html": [
       "<div>\n",
       "<style scoped>\n",
       "    .dataframe tbody tr th:only-of-type {\n",
       "        vertical-align: middle;\n",
       "    }\n",
       "\n",
       "    .dataframe tbody tr th {\n",
       "        vertical-align: top;\n",
       "    }\n",
       "\n",
       "    .dataframe thead th {\n",
       "        text-align: right;\n",
       "    }\n",
       "</style>\n",
       "<table border=\"1\" class=\"dataframe\">\n",
       "  <thead>\n",
       "    <tr style=\"text-align: right;\">\n",
       "      <th></th>\n",
       "      <th>count_target</th>\n",
       "      <th>count_normal</th>\n",
       "      <th>ratio_normal</th>\n",
       "      <th>is_normal</th>\n",
       "      <th>is_anomalous</th>\n",
       "    </tr>\n",
       "    <tr>\n",
       "      <th>service</th>\n",
       "      <th></th>\n",
       "      <th></th>\n",
       "      <th></th>\n",
       "      <th></th>\n",
       "      <th></th>\n",
       "    </tr>\n",
       "  </thead>\n",
       "  <tbody>\n",
       "    <tr>\n",
       "      <th>IRC</th>\n",
       "      <td>255</td>\n",
       "      <td>254</td>\n",
       "      <td>0.996</td>\n",
       "      <td>True</td>\n",
       "      <td>False</td>\n",
       "    </tr>\n",
       "    <tr>\n",
       "      <th>X11</th>\n",
       "      <td>69</td>\n",
       "      <td>68</td>\n",
       "      <td>0.986</td>\n",
       "      <td>True</td>\n",
       "      <td>False</td>\n",
       "    </tr>\n",
       "    <tr>\n",
       "      <th>Z39_50</th>\n",
       "      <td>34</td>\n",
       "      <td>0</td>\n",
       "      <td>0.000</td>\n",
       "      <td>False</td>\n",
       "      <td>True</td>\n",
       "    </tr>\n",
       "  </tbody>\n",
       "</table>\n",
       "</div>"
      ],
      "text/plain": [
       "         count_target  count_normal  ratio_normal  is_normal  is_anomalous\n",
       "service                                                                   \n",
       "IRC               255           254         0.996       True         False\n",
       "X11                69            68         0.986       True         False\n",
       "Z39_50             34             0         0.000      False          True"
      ]
     },
     "execution_count": 16,
     "metadata": {},
     "output_type": "execute_result"
    }
   ],
   "source": [
    "# add bool columns indicating if ratio higher than 0.7 or lower than 0.3\n",
    "service_totals['is_normal'] = service_totals.ratio_normal > 0.7\n",
    "service_totals['is_anomalous'] = service_totals.ratio_normal < 0.3\n",
    "service_totals.head(3)"
   ]
  },
  {
   "cell_type": "code",
   "execution_count": 17,
   "id": "a765e0f1",
   "metadata": {},
   "outputs": [
    {
     "name": "stdout",
     "output_type": "stream",
     "text": [
      "Normal services:\n",
      " ['IRC', 'X11', 'auth', 'domain_u', 'finger', 'ftp', 'ftp_data', 'http', 'ntp_u', 'other', 'pop_3', 'red_i', 'smtp', 'telnet', 'tftp_u', 'tim_i', 'time', 'urh_i', 'urp_i'] \n",
      "\n",
      "Anomaly services:\n",
      " ['Z39_50', 'aol', 'bgp', 'courier', 'csnet_ns', 'ctf', 'daytime', 'discard', 'domain', 'echo', 'eco_i', 'ecr_i', 'efs', 'exec', 'gopher', 'harvest', 'hostnames', 'http_443', 'http_8001', 'imap4', 'iso_tsap', 'klogin', 'kshell', 'ldap', 'link', 'login', 'mtp', 'name', 'netbios_dgm', 'netbios_ns', 'netbios_ssn', 'netstat', 'nnsp', 'nntp', 'pm_dump', 'pop_2', 'printer', 'remote_job', 'rje', 'shell', 'sql_net', 'ssh', 'sunrpc', 'supdup', 'systat', 'uucp', 'uucp_path', 'vmnet', 'whois']\n"
     ]
    }
   ],
   "source": [
    "# print list of services that are >70% normal and list of services that are <30% normal\n",
    "normal_services = service_totals[service_totals.is_normal].index.tolist()\n",
    "anomaly_services = service_totals[service_totals.is_anomalous].index.tolist()\n",
    "print(\"Normal services:\\n\", normal_services, \"\\n\")\n",
    "print(\"Anomaly services:\\n\", anomaly_services)"
   ]
  },
  {
   "cell_type": "markdown",
   "id": "1d4f8eee",
   "metadata": {},
   "source": [
    "## Service Takeaways\n",
    "1. Service-by-Class counts indicate large count disparities between each service's class observations\n",
    "2. **Feature Engineering: is_normal_service, is_anomaly_service**"
   ]
  },
  {
   "cell_type": "code",
   "execution_count": null,
   "id": "237fc500",
   "metadata": {},
   "outputs": [],
   "source": []
  }
 ],
 "metadata": {
  "kernelspec": {
   "display_name": "Python 3 (ipykernel)",
   "language": "python",
   "name": "python3"
  },
  "language_info": {
   "codemirror_mode": {
    "name": "ipython",
    "version": 3
   },
   "file_extension": ".py",
   "mimetype": "text/x-python",
   "name": "python",
   "nbconvert_exporter": "python",
   "pygments_lexer": "ipython3",
   "version": "3.8.8"
  }
 },
 "nbformat": 4,
 "nbformat_minor": 5
}
