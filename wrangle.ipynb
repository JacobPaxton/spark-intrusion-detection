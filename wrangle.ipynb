{
 "cells": [
  {
   "cell_type": "markdown",
   "id": "edd2862a",
   "metadata": {},
   "source": [
    "# Wrangling Overview\n",
    "In this notebook, I wrangle the network intrusion dataset in the following steps:\n",
    "\n",
    "- Set up a Spark virtual environment\n",
    "- Ingest the full intrusion detection dataset\n",
    "- Reduce 'smurf' and 'neptune' attack classes by 95% through isolating their rows and sampling\n",
    "    * Use sampleBy with python dict containing each class's fraction\n",
    "- Convert dataset to binary classes by combining all attack classes into category 'anomalous'\n",
    "- Split the reduced dataset 50%-30%-20% for model training, validation, and testing\n",
    "    * Stratify the target column between train and validate split\n",
    "    * Sequester the validate and test splits for later use; only use train split for exploration and model fit\n",
    "    \n",
    "# Setup"
   ]
  },
  {
   "cell_type": "code",
   "execution_count": 1,
   "id": "add45328",
   "metadata": {},
   "outputs": [
    {
     "name": "stderr",
     "output_type": "stream",
     "text": [
      "WARNING: An illegal reflective access operation has occurred\n",
      "WARNING: Illegal reflective access by org.apache.spark.unsafe.Platform (file:/opt/homebrew/anaconda3/lib/python3.8/site-packages/pyspark/jars/spark-unsafe_2.12-3.2.0.jar) to constructor java.nio.DirectByteBuffer(long,int)\n",
      "WARNING: Please consider reporting this to the maintainers of org.apache.spark.unsafe.Platform\n",
      "WARNING: Use --illegal-access=warn to enable warnings of further illegal reflective access operations\n",
      "WARNING: All illegal access operations will be denied in a future release\n",
      "Using Spark's default log4j profile: org/apache/spark/log4j-defaults.properties\n",
      "Setting default log level to \"WARN\".\n",
      "To adjust logging level use sc.setLogLevel(newLevel). For SparkR, use setLogLevel(newLevel).\n",
      "22/01/22 22:22:47 WARN NativeCodeLoader: Unable to load native-hadoop library for your platform... using builtin-java classes where applicable\n"
     ]
    }
   ],
   "source": [
    "import pandas as pd\n",
    "\n",
    "import pyspark\n",
    "from pyspark.sql.functions import *\n",
    "spark = pyspark.sql.SparkSession.builder.getOrCreate()"
   ]
  },
  {
   "cell_type": "markdown",
   "id": "01f6f310",
   "metadata": {},
   "source": [
    "# Ingest data from CSV"
   ]
  },
  {
   "cell_type": "code",
   "execution_count": 2,
   "id": "ff73bef7",
   "metadata": {},
   "outputs": [],
   "source": [
    "# ingest data\n",
    "df = spark.read.csv('kddcup.data.corrected', header=True)"
   ]
  },
  {
   "cell_type": "markdown",
   "id": "d07f0a53",
   "metadata": {},
   "source": [
    "# Reduce 'smurf' and 'neptune' attack classes by 95% "
   ]
  },
  {
   "cell_type": "code",
   "execution_count": 3,
   "id": "3c79c31a",
   "metadata": {},
   "outputs": [],
   "source": [
    "# create fractions dataframe for sampleBy\n",
    "fraction_df = df.select('target').distinct().withColumn('fraction', \n",
    "                                                        when((df.target == 'neptune.') | \n",
    "                                                             (df.target == 'smurf.'), \n",
    "                                                             0.05)\n",
    "                                                        .otherwise(1))"
   ]
  },
  {
   "cell_type": "code",
   "execution_count": 4,
   "id": "5f4081b3",
   "metadata": {},
   "outputs": [
    {
     "name": "stderr",
     "output_type": "stream",
     "text": [
      "                                                                                \r"
     ]
    },
    {
     "data": {
      "text/plain": [
       "1212502"
      ]
     },
     "execution_count": 4,
     "metadata": {},
     "output_type": "execute_result"
    }
   ],
   "source": [
    "# convert fractions df to dict, use dict in sampleBy\n",
    "df = df.sampleBy('target', fraction_df.toPandas().set_index('target').to_dict()['fraction'])\n",
    "# check work\n",
    "df.count()"
   ]
  },
  {
   "cell_type": "markdown",
   "id": "05648321",
   "metadata": {},
   "source": [
    "# Convert 'target' column to binary classes"
   ]
  },
  {
   "cell_type": "code",
   "execution_count": 5,
   "id": "09b83fb4",
   "metadata": {},
   "outputs": [],
   "source": [
    "# convert to binary classes\n",
    "df = df.withColumn('target', when(df.target != 'normal.', 'anomalous').otherwise('normal'))"
   ]
  },
  {
   "cell_type": "markdown",
   "id": "109ad48d",
   "metadata": {},
   "source": [
    "# Split the dataset into 50%-30%-20%"
   ]
  },
  {
   "cell_type": "code",
   "execution_count": 6,
   "id": "1f4efe8e",
   "metadata": {},
   "outputs": [],
   "source": [
    "# split data\n",
    "train, validate, test = df.randomSplit([0.5, 0.3, 0.2], seed=42)"
   ]
  },
  {
   "cell_type": "markdown",
   "id": "4a8df332",
   "metadata": {},
   "source": [
    "# Check wrangle.py script"
   ]
  },
  {
   "cell_type": "code",
   "execution_count": 7,
   "id": "0b49ebae",
   "metadata": {},
   "outputs": [],
   "source": [
    "import wrangle"
   ]
  },
  {
   "cell_type": "code",
   "execution_count": 8,
   "id": "ca389ed6",
   "metadata": {},
   "outputs": [
    {
     "name": "stderr",
     "output_type": "stream",
     "text": [
      "                                                                                \r"
     ]
    }
   ],
   "source": [
    "df, train, validate, text = wrangle.prep_explore()"
   ]
  },
  {
   "cell_type": "code",
   "execution_count": 9,
   "id": "28e76d3c",
   "metadata": {},
   "outputs": [
    {
     "name": "stderr",
     "output_type": "stream",
     "text": [
      "22/01/22 22:23:11 WARN package: Truncated the string representation of a plan since it was too large. This behavior can be adjusted by setting 'spark.sql.debug.maxToStringFields'.\n"
     ]
    },
    {
     "name": "stdout",
     "output_type": "stream",
     "text": [
      "Row count of df (expect 1.2m): 1212357\n"
     ]
    },
    {
     "name": "stderr",
     "output_type": "stream",
     "text": [
      "                                                                                \r"
     ]
    },
    {
     "name": "stdout",
     "output_type": "stream",
     "text": [
      "Row count of train (expect 600k): 606923\n",
      "\n",
      "First Observation in Train\n"
     ]
    },
    {
     "name": "stderr",
     "output_type": "stream",
     "text": [
      "\r",
      "[Stage 17:>                                                         (0 + 1) / 1]\r"
     ]
    },
    {
     "name": "stdout",
     "output_type": "stream",
     "text": [
      "-RECORD 0-----------------------------\n",
      " duration                    | 0      \n",
      " protocol_type               | icmp   \n",
      " service                     | eco_i  \n",
      " flag                        | SF     \n",
      " src_bytes                   | 30     \n",
      " dst_bytes                   | 0      \n",
      " land                        | 0      \n",
      " wrong_fragment              | 0      \n",
      " urgent                      | 0      \n",
      " hot                         | 0      \n",
      " num_failed_logins           | 0      \n",
      " logged_in                   | 0      \n",
      " num_compromised             | 0      \n",
      " root_shell                  | 0      \n",
      " su_attempted                | 0      \n",
      " num_root                    | 0      \n",
      " num_file_creations          | 0      \n",
      " num_shells                  | 0      \n",
      " num_access_files            | 0      \n",
      " num_outbound_cmds           | 0      \n",
      " is_host_login               | 0      \n",
      " is_guest_login              | 0      \n",
      " count                       | 1      \n",
      " srv_count                   | 1      \n",
      " serror_rate                 | 0.00   \n",
      " srv_serror_rate             | 0.00   \n",
      " rerror_rate                 | 0.00   \n",
      " srv_rerror_rate             | 0.00   \n",
      " same_srv_rate               | 1.00   \n",
      " diff_srv_rate               | 0.00   \n",
      " srv_diff_host_rate          | 0.00   \n",
      " dst_host_count              | 1      \n",
      " dst_host_srv_count          | 1      \n",
      " dst_host_same_srv_rate      | 1.00   \n",
      " dst_host_diff_srv_rate      | 0.00   \n",
      " dst_host_same_src_port_rate | 1.00   \n",
      " dst_host_srv_diff_host_rate | 0.00   \n",
      " dst_host_serror_rate        | 0.00   \n",
      " dst_host_srv_serror_rate    | 0.00   \n",
      " dst_host_rerror_rate        | 0.00   \n",
      " dst_host_srv_rerror_rate    | 0.00   \n",
      " target                      | normal \n",
      "only showing top 1 row\n",
      "\n"
     ]
    },
    {
     "name": "stderr",
     "output_type": "stream",
     "text": [
      "\r",
      "[Stage 17:==========================================================(1 + 0) / 1]\r",
      "\r",
      "                                                                                \r"
     ]
    }
   ],
   "source": [
    "print('Row count of df (expect 1.2m):', df.count())\n",
    "print('Row count of train (expect 600k):', train.count())\n",
    "print('\\nFirst Observation in Train')\n",
    "train.show(1, vertical=True)"
   ]
  },
  {
   "cell_type": "code",
   "execution_count": null,
   "id": "faa63211",
   "metadata": {},
   "outputs": [],
   "source": []
  }
 ],
 "metadata": {
  "kernelspec": {
   "display_name": "Python 3 (ipykernel)",
   "language": "python",
   "name": "python3"
  },
  "language_info": {
   "codemirror_mode": {
    "name": "ipython",
    "version": 3
   },
   "file_extension": ".py",
   "mimetype": "text/x-python",
   "name": "python",
   "nbconvert_exporter": "python",
   "pygments_lexer": "ipython3",
   "version": "3.8.8"
  }
 },
 "nbformat": 4,
 "nbformat_minor": 5
}
