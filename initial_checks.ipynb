{
 "cells": [
  {
   "cell_type": "markdown",
   "id": "5181d52a",
   "metadata": {},
   "source": [
    "# Apache Spark - Network Intrustion Data - Initial Look\n",
    "In this notebook I'll be using Spark to wrangle a network intrusion dataset.\n",
    "\n",
    "## Pre-Wrangling Exploration Results\n",
    "### Overall Notes:\n",
    "1. Dataset is 4.8 million rows and 42 columns with no nulls\n",
    "2. Columns describe the nature of each TCP/IP connection, including duration, protocol, service, and more\n",
    "3. Target column reveals if a connection was normal, and if it was not normal, what kind of attack was used\n",
    "\n",
    "### Side Notes: Attack Categories\n",
    "- DOS: denial-of-service, e.g. syn (synchronize request) flood;\n",
    "    * Small value in 'duration', large value in 'count' (requests to same host) or 'srv_count' (requests to same service)\n",
    "- R2L: unauthorized access from a remote machine, e.g. guessing password;\n",
    "- U2R:  unauthorized access to local superuser (root) privileges, e.g., various 'buffer overflow' attacks;\n",
    "    * logged_in=False, (root_shell=True | num_root > 0 | su_attempted > 3)\n",
    "- probing: surveillance and other probing, e.g., port scanning.\n",
    "\n",
    "### Side Notes: Column Information\n",
    "- Duration values are in two-second intervals, and the rest of the row's metrics are within that duration time\n",
    "    * **Automated attacks usually have high value counts in short durations**\n",
    "- Protocol type: TDP (conversation), UDP (one-way broadcast), ICMP (ping and response)\n",
    "- A **wrong_fragment value greater than zero** may indicate a man-in-the-middle attack\n",
    "- A **num_failed_logins greater than three** may indicate a password attack\n",
    "- Error flags:\n",
    "    * **SF:** SYN-FIN - Normal\n",
    "    * **S0:** SYN only - High-volume may indicate DOS attack\n",
    "    * **REJ:** Rejected - High-volume may indicate DOS attack\n",
    "    * **RSTR:** Accepted then server rejects\n",
    "    * **RSTO:** Accepted then client rejects\n",
    "    * **SH:** No SYN-ACK - High-volume may indicate DOS attack\n",
    "    * **S1:** Server FIN only\n",
    "    * **S2:** Client FIN only\n",
    "    * **RSTOS0:** Connection failed because of client\n",
    "    * **OTH:** Anything not above\n",
    "    * **S3:** SYN and time-out\n",
    "- Root Shell: total control; root_shell=True is root obtained, num_root indicates how many times was accessed\n",
    "    * su_attempted is 'su root' requests; request is fine but multiple is anomalous\n",
    "    * Should be logged in to succeed\n",
    "    * Root credentials would be secured somewhere and no-one has access (too generic, not easy to track)\n",
    "        * Equivalent rights are granted sometimes but almost never root itself\n",
    "- num_file_creations: attributed to anomalous stuff if in certain directories, too-high, etc\n",
    "    \n",
    "#### Server columns\n",
    "'duration', 'protocol_type', 'service', 'flag', 'src_bytes', 'dst_bytes', 'land', 'wrong_fragment', 'urgent', 'hot', 'num_failed_logins', 'logged_in', 'num_compromised', 'root_shell', 'su_attempted', 'num_root', 'num_file_creations', 'num_shells', 'num_access_files', 'num_outbound_cmds', 'is_host_login', 'is_guest_login', \n",
    "\n",
    "#### Analyst Columns\n",
    "'count', 'srv_count', 'serror_rate', 'srv_serror_rate', 'rerror_rate', 'srv_rerror_rate', 'same_srv_rate', 'diff_srv_rate', 'srv_diff_host_rate', 'dst_host_count', 'dst_host_srv_count', 'dst_host_same_srv_rate', 'dst_host_diff_srv_rate', 'dst_host_same_src_port_rate', 'dst_host_srv_diff_host_rate', 'dst_host_serror_rate', 'dst_host_srv_serror_rate', 'dst_host_rerror_rate', 'dst_host_srv_rerror_rate', 'target'\n",
    "\n",
    "#### Further Information\n",
    "- OSI Model: https://en.wikipedia.org/wiki/OSI_model\n",
    "\n",
    "### Next Steps\n",
    "1. Using results from initial exploration, create project goals and plan\n",
    "2. Add goals and plan to repository README\n",
    "3. Proceed with additional wrangling as necessary\n",
    "4. Take three subsets of the data: train, validate, and test\n",
    "5. Script the PySpark queries and data manipulations\n",
    "\n",
    "# Pre-Wrangling Exploration\n",
    "## Imports"
   ]
  },
  {
   "cell_type": "code",
   "execution_count": 1,
   "id": "519524bb",
   "metadata": {},
   "outputs": [
    {
     "name": "stderr",
     "output_type": "stream",
     "text": [
      "WARNING: An illegal reflective access operation has occurred\n",
      "WARNING: Illegal reflective access by org.apache.spark.unsafe.Platform (file:/opt/homebrew/anaconda3/lib/python3.8/site-packages/pyspark/jars/spark-unsafe_2.12-3.2.0.jar) to constructor java.nio.DirectByteBuffer(long,int)\n",
      "WARNING: Please consider reporting this to the maintainers of org.apache.spark.unsafe.Platform\n",
      "WARNING: Use --illegal-access=warn to enable warnings of further illegal reflective access operations\n",
      "WARNING: All illegal access operations will be denied in a future release\n",
      "Using Spark's default log4j profile: org/apache/spark/log4j-defaults.properties\n",
      "Setting default log level to \"WARN\".\n",
      "To adjust logging level use sc.setLogLevel(newLevel). For SparkR, use setLogLevel(newLevel).\n",
      "22/01/22 19:06:04 WARN NativeCodeLoader: Unable to load native-hadoop library for your platform... using builtin-java classes where applicable\n"
     ]
    }
   ],
   "source": [
    "import warnings\n",
    "warnings.filterwarnings('ignore')\n",
    "\n",
    "# Apache Spark interfacing import\n",
    "import pyspark\n",
    "from pyspark.sql.functions import *\n",
    "spark = pyspark.sql.SparkSession.builder.getOrCreate()\n",
    "\n",
    "import pandas as pd\n",
    "import matplotlib.pyplot as plt\n",
    "import seaborn as sns"
   ]
  },
  {
   "cell_type": "markdown",
   "id": "a199a4c2",
   "metadata": {},
   "source": [
    "## Data Ingest from CSV"
   ]
  },
  {
   "cell_type": "code",
   "execution_count": 2,
   "id": "abf5d65b",
   "metadata": {},
   "outputs": [
    {
     "name": "stdout",
     "output_type": "stream",
     "text": [
      "['duration', 'protocol_type', 'service', 'flag', 'src_bytes', 'dst_bytes', 'land', 'wrong_fragment', 'urgent', 'hot', 'num_failed_logins', 'logged_in', 'num_compromised', 'root_shell', 'su_attempted', 'num_root', 'num_file_creations', 'num_shells', 'num_access_files', 'num_outbound_cmds', 'is_host_login', 'is_guest_login', 'count', 'srv_count', 'serror_rate', 'srv_serror_rate', 'rerror_rate', 'srv_rerror_rate', 'same_srv_rate', 'diff_srv_rate', 'srv_diff_host_rate', 'dst_host_count', 'dst_host_srv_count', 'dst_host_same_srv_rate', 'dst_host_diff_srv_rate', 'dst_host_same_src_port_rate', 'dst_host_srv_diff_host_rate', 'dst_host_serror_rate', 'dst_host_srv_serror_rate', 'dst_host_rerror_rate', 'dst_host_srv_rerror_rate', 'target']\n"
     ]
    },
    {
     "name": "stderr",
     "output_type": "stream",
     "text": [
      "\r",
      "[Stage 1:>                                                          (0 + 8) / 8]\r"
     ]
    },
    {
     "name": "stdout",
     "output_type": "stream",
     "text": [
      "Row count: 4898431\n"
     ]
    },
    {
     "name": "stderr",
     "output_type": "stream",
     "text": [
      "\r",
      "                                                                                \r"
     ]
    }
   ],
   "source": [
    "# ingest from CSV\n",
    "df = spark.read.csv('kddcup.data.corrected', header=True)\n",
    "print(df.columns)\n",
    "print('Row count:', df.count())"
   ]
  },
  {
   "cell_type": "markdown",
   "id": "84d4c8d1",
   "metadata": {},
   "source": [
    "## Checking Columns for Nulls"
   ]
  },
  {
   "cell_type": "code",
   "execution_count": 3,
   "id": "3e0ef938",
   "metadata": {},
   "outputs": [
    {
     "name": "stderr",
     "output_type": "stream",
     "text": [
      "22/01/22 19:06:16 WARN package: Truncated the string representation of a plan since it was too large. This behavior can be adjusted by setting 'spark.sql.debug.maxToStringFields'.\n",
      "[Stage 4:===================================================>       (7 + 1) / 8]\r"
     ]
    },
    {
     "name": "stdout",
     "output_type": "stream",
     "text": [
      "-RECORD 0--------------------------\n",
      " duration                    | 0   \n",
      " protocol_type               | 0   \n",
      " service                     | 0   \n",
      " flag                        | 0   \n",
      " src_bytes                   | 0   \n",
      " dst_bytes                   | 0   \n",
      " land                        | 0   \n",
      " wrong_fragment              | 0   \n",
      " urgent                      | 0   \n",
      " hot                         | 0   \n",
      " num_failed_logins           | 0   \n",
      " logged_in                   | 0   \n",
      " num_compromised             | 0   \n",
      " root_shell                  | 0   \n",
      " su_attempted                | 0   \n",
      " num_root                    | 0   \n",
      " num_file_creations          | 0   \n",
      " num_shells                  | 0   \n",
      " num_access_files            | 0   \n",
      " num_outbound_cmds           | 0   \n",
      " is_host_login               | 0   \n",
      " is_guest_login              | 0   \n",
      " count                       | 0   \n",
      " srv_count                   | 0   \n",
      " serror_rate                 | 0   \n",
      " srv_serror_rate             | 0   \n",
      " rerror_rate                 | 0   \n",
      " srv_rerror_rate             | 0   \n",
      " same_srv_rate               | 0   \n",
      " diff_srv_rate               | 0   \n",
      " srv_diff_host_rate          | 0   \n",
      " dst_host_count              | 0   \n",
      " dst_host_srv_count          | 0   \n",
      " dst_host_same_srv_rate      | 0   \n",
      " dst_host_diff_srv_rate      | 0   \n",
      " dst_host_same_src_port_rate | 0   \n",
      " dst_host_srv_diff_host_rate | 0   \n",
      " dst_host_serror_rate        | 0   \n",
      " dst_host_srv_serror_rate    | 0   \n",
      " dst_host_rerror_rate        | 0   \n",
      " dst_host_srv_rerror_rate    | 0   \n",
      " target                      | 0   \n",
      "\n"
     ]
    },
    {
     "name": "stderr",
     "output_type": "stream",
     "text": [
      "\r",
      "                                                                                \r"
     ]
    }
   ],
   "source": [
    "# check column nulls\n",
    "df.select([count(when(isnan(c) | col(c).isNull(), c)).alias(c) for c in df.columns]).show(vertical=True)"
   ]
  },
  {
   "cell_type": "markdown",
   "id": "cf5c7882",
   "metadata": {},
   "source": [
    "## Checking Value Counts of Some Columns\n",
    "### Duration Feature Look"
   ]
  },
  {
   "cell_type": "code",
   "execution_count": 4,
   "id": "1a462c4f",
   "metadata": {},
   "outputs": [
    {
     "name": "stderr",
     "output_type": "stream",
     "text": [
      "[Stage 10:==============>                                           (2 + 6) / 8]\r"
     ]
    },
    {
     "name": "stdout",
     "output_type": "stream",
     "text": [
      "+--------+-------+----------+\n",
      "|duration|  count|proportion|\n",
      "+--------+-------+----------+\n",
      "|       0|4779492|      0.98|\n",
      "|       1|  23886|       0.0|\n",
      "|       2|   8139|       0.0|\n",
      "|       3|   6016|       0.0|\n",
      "|       5|   5576|       0.0|\n",
      "|    2630|   5061|       0.0|\n",
      "|       4|   3738|       0.0|\n",
      "|      14|   2673|       0.0|\n",
      "+--------+-------+----------+\n",
      "only showing top 8 rows\n",
      "\n"
     ]
    },
    {
     "name": "stderr",
     "output_type": "stream",
     "text": [
      "\r",
      "                                                                                \r"
     ]
    }
   ],
   "source": [
    "# durations\n",
    "duration_value_counts = df.groupBy('duration').count().sort('count', ascending=False)\\\n",
    "    .withColumn('proportion', round(col('count') / df.count(), 2)).show(8)"
   ]
  },
  {
   "cell_type": "markdown",
   "id": "6b44c30f",
   "metadata": {},
   "source": [
    "### Protocol Type Feature Look"
   ]
  },
  {
   "cell_type": "code",
   "execution_count": 5,
   "id": "b5210f41",
   "metadata": {},
   "outputs": [
    {
     "name": "stderr",
     "output_type": "stream",
     "text": [
      "[Stage 16:>                                                         (0 + 8) / 8]\r"
     ]
    },
    {
     "name": "stdout",
     "output_type": "stream",
     "text": [
      "+-------------+-------+----------+\n",
      "|protocol_type|  count|proportion|\n",
      "+-------------+-------+----------+\n",
      "|         icmp|2833545|      0.58|\n",
      "|          tcp|1870598|      0.38|\n",
      "|          udp| 194288|      0.04|\n",
      "+-------------+-------+----------+\n",
      "\n"
     ]
    },
    {
     "name": "stderr",
     "output_type": "stream",
     "text": [
      "\r",
      "                                                                                \r"
     ]
    }
   ],
   "source": [
    "# protocols\n",
    "df.groupBy('protocol_type').count().sort('count', ascending=False)\\\n",
    "    .withColumn('proportion', round(col('count') / df.count(), 2)).show(8)"
   ]
  },
  {
   "cell_type": "markdown",
   "id": "898168bf",
   "metadata": {},
   "source": [
    "### Service Feature Look"
   ]
  },
  {
   "cell_type": "code",
   "execution_count": 6,
   "id": "982d1cf0",
   "metadata": {},
   "outputs": [
    {
     "name": "stderr",
     "output_type": "stream",
     "text": [
      "[Stage 22:>                                                         (0 + 8) / 8]\r"
     ]
    },
    {
     "name": "stdout",
     "output_type": "stream",
     "text": [
      "+--------+-------+----------+\n",
      "| service|  count|proportion|\n",
      "+--------+-------+----------+\n",
      "|   ecr_i|2811660|      0.57|\n",
      "| private|1100831|      0.22|\n",
      "|    http| 623091|      0.13|\n",
      "|    smtp|  96554|      0.02|\n",
      "|   other|  72653|      0.01|\n",
      "|domain_u|  57782|      0.01|\n",
      "|ftp_data|  40697|      0.01|\n",
      "|   eco_i|  16338|       0.0|\n",
      "+--------+-------+----------+\n",
      "only showing top 8 rows\n",
      "\n"
     ]
    },
    {
     "name": "stderr",
     "output_type": "stream",
     "text": [
      "\r",
      "                                                                                \r"
     ]
    }
   ],
   "source": [
    "# services\n",
    "df.groupBy('service').count().sort('count', ascending=False)\\\n",
    "    .withColumn('proportion', round(col('count') / df.count(), 2)).show(8)"
   ]
  },
  {
   "cell_type": "markdown",
   "id": "2b2e1662",
   "metadata": {},
   "source": [
    "### Error Flags Feature Look"
   ]
  },
  {
   "cell_type": "code",
   "execution_count": 7,
   "id": "f3cd19a5",
   "metadata": {},
   "outputs": [
    {
     "name": "stderr",
     "output_type": "stream",
     "text": [
      "                                                                                \r"
     ]
    },
    {
     "name": "stdout",
     "output_type": "stream",
     "text": [
      "+------+-------+----------+\n",
      "|  flag|  count|proportion|\n",
      "+------+-------+----------+\n",
      "|    SF|3744328|      0.76|\n",
      "|    S0| 869829|      0.18|\n",
      "|   REJ| 268874|      0.05|\n",
      "|  RSTR|   8094|       0.0|\n",
      "|  RSTO|   5344|       0.0|\n",
      "|    SH|   1040|       0.0|\n",
      "|    S1|    532|       0.0|\n",
      "|    S2|    161|       0.0|\n",
      "|RSTOS0|    122|       0.0|\n",
      "|   OTH|     57|       0.0|\n",
      "|    S3|     50|       0.0|\n",
      "+------+-------+----------+\n",
      "\n"
     ]
    }
   ],
   "source": [
    "# flags - response types\n",
    "df.groupBy('flag').count().sort('count', ascending=False)\\\n",
    "    .withColumn('proportion', round(col('count') / df.count(), 2)).show(15)"
   ]
  },
  {
   "cell_type": "markdown",
   "id": "f32e0b15",
   "metadata": {},
   "source": [
    "### Target Column Feature Look"
   ]
  },
  {
   "cell_type": "code",
   "execution_count": 8,
   "id": "3ee4731f",
   "metadata": {},
   "outputs": [
    {
     "name": "stderr",
     "output_type": "stream",
     "text": [
      "[Stage 34:>                                                         (0 + 8) / 8]\r"
     ]
    },
    {
     "name": "stdout",
     "output_type": "stream",
     "text": [
      "+----------------+-------+----------+\n",
      "|          target|  count|proportion|\n",
      "+----------------+-------+----------+\n",
      "|          smurf.|2807886|      0.57|\n",
      "|        neptune.|1072017|      0.22|\n",
      "|         normal.| 972781|       0.2|\n",
      "|          satan.|  15892|       0.0|\n",
      "|        ipsweep.|  12481|       0.0|\n",
      "|      portsweep.|  10413|       0.0|\n",
      "|           nmap.|   2316|       0.0|\n",
      "|           back.|   2203|       0.0|\n",
      "|    warezclient.|   1020|       0.0|\n",
      "|       teardrop.|    979|       0.0|\n",
      "|            pod.|    264|       0.0|\n",
      "|   guess_passwd.|     53|       0.0|\n",
      "|buffer_overflow.|     30|       0.0|\n",
      "|           land.|     21|       0.0|\n",
      "|    warezmaster.|     20|       0.0|\n",
      "|           imap.|     12|       0.0|\n",
      "|        rootkit.|     10|       0.0|\n",
      "|     loadmodule.|      9|       0.0|\n",
      "|      ftp_write.|      8|       0.0|\n",
      "|       multihop.|      7|       0.0|\n",
      "|            phf.|      4|       0.0|\n",
      "|           perl.|      3|       0.0|\n",
      "|            spy.|      2|       0.0|\n",
      "+----------------+-------+----------+\n",
      "\n"
     ]
    },
    {
     "name": "stderr",
     "output_type": "stream",
     "text": [
      "\r",
      "[Stage 34:==================================================>       (7 + 1) / 8]\r",
      "\r",
      "                                                                                \r"
     ]
    }
   ],
   "source": [
    "# target - normal traffic or attack type\n",
    "df.groupBy('target').count().sort('count', ascending=False)\\\n",
    "    .withColumn('proportion', round(col('count') / df.count(), 2)).show(30)"
   ]
  },
  {
   "cell_type": "markdown",
   "id": "672a47fb",
   "metadata": {},
   "source": [
    "### Combination Counts Feature Look"
   ]
  },
  {
   "cell_type": "code",
   "execution_count": 9,
   "id": "3c72367d",
   "metadata": {},
   "outputs": [
    {
     "name": "stderr",
     "output_type": "stream",
     "text": [
      "[Stage 40:>                                                         (0 + 8) / 8]\r"
     ]
    },
    {
     "name": "stdout",
     "output_type": "stream",
     "text": [
      "+-------------+--------+---------+-------+----------+\n",
      "|protocol_type| service|   binary|  count|proportion|\n",
      "+-------------+--------+---------+-------+----------+\n",
      "|         icmp|   ecr_i|anomalous|2808204|      0.57|\n",
      "|          tcp| private|anomalous|1024311|      0.21|\n",
      "|          tcp|    http|   normal| 619046|      0.13|\n",
      "|          tcp|    smtp|   normal|  95371|      0.02|\n",
      "|          udp| private|   normal|  73848|      0.02|\n",
      "|          udp|domain_u|   normal|  57773|      0.01|\n",
      "|          udp|   other|   normal|  55891|      0.01|\n",
      "|          tcp|ftp_data|   normal|  38093|      0.01|\n",
      "|          tcp|   other|anomalous|  15869|       0.0|\n",
      "|         icmp|   eco_i|anomalous|  12570|       0.0|\n",
      "+-------------+--------+---------+-------+----------+\n",
      "only showing top 10 rows\n",
      "\n"
     ]
    },
    {
     "name": "stderr",
     "output_type": "stream",
     "text": [
      "\r",
      "                                                                                \r"
     ]
    }
   ],
   "source": [
    "# show groupby of most-common combos for protocol, service, and binary class\n",
    "df.withColumn('binary', when(df.target != 'normal.', 'anomalous').otherwise('normal'))\\\n",
    "    .groupBy('protocol_type', 'service', 'binary').count().sort('count', ascending=False)\\\n",
    "    .withColumn('proportion', round(col('count') / df.count(), 2))\\\n",
    "    .show(10)"
   ]
  },
  {
   "cell_type": "code",
   "execution_count": null,
   "id": "60a03809",
   "metadata": {},
   "outputs": [],
   "source": []
  }
 ],
 "metadata": {
  "kernelspec": {
   "display_name": "Python 3 (ipykernel)",
   "language": "python",
   "name": "python3"
  },
  "language_info": {
   "codemirror_mode": {
    "name": "ipython",
    "version": 3
   },
   "file_extension": ".py",
   "mimetype": "text/x-python",
   "name": "python",
   "nbconvert_exporter": "python",
   "pygments_lexer": "ipython3",
   "version": "3.8.8"
  }
 },
 "nbformat": 4,
 "nbformat_minor": 5
}
